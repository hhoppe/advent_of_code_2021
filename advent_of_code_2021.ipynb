{
  "nbformat": 4,
  "nbformat_minor": 0,
  "metadata": {
    "colab": {
      "name": "advent_of_code_2021.ipynb",
      "provenance": [],
      "collapsed_sections": [],
      "toc_visible": true,
      "include_colab_link": true
    },
    "kernelspec": {
      "name": "python3",
      "display_name": "Python 3"
    }
  },
  "cells": [
    {
      "cell_type": "markdown",
      "metadata": {
        "id": "view-in-github",
        "colab_type": "text"
      },
      "source": [
        "<a href=\"https://colab.research.google.com/github/hhoppe/advent_of_code_2021/blob/main/advent_of_code_2021.ipynb\" target=\"_parent\"><img src=\"https://colab.research.google.com/assets/colab-badge.svg\" alt=\"Open In Colab\"/></a>"
      ]
    },
    {
      "cell_type": "markdown",
      "metadata": {
        "id": "WXIjO0fEzNYw"
      },
      "source": [
        "# Advent of code 2021\n",
        "\n",
        "[[**Open the notebook in Colab**]](https://colab.research.google.com/github/hhoppe/advent_of_code_2021/blob/main/advent_of_code_2021.ipynb)\n",
        "\n",
        "IPython/Jupyter [notebook](https://github.com/hhoppe/advent_of_code_2021/blob/main/advent_of_code_2021.ipynb) by [Hugues Hoppe](http://hhoppe.com/) with solutions to the [2021 Advent of Code puzzles](https://adventofcode.com/2021).\n",
        "\n",
        "Mostly completed in December 2021.\n",
        "\n",
        "See my [**2020** Advent-of-Code notebook](https://github.com/hhoppe/advent_of_code_2020) for notes on how the code is structured."
      ]
    },
    {
      "cell_type": "markdown",
      "metadata": {
        "id": "BDeORtzZKKfw"
      },
      "source": [
        "<a name=\"preamble\"></a>\n",
        "## Preamble: Common code"
      ]
    },
    {
      "cell_type": "code",
      "metadata": {
        "id": "FJf7iY-ZK9Tn"
      },
      "source": [
        "!pip install -q mediapy"
      ],
      "execution_count": 1,
      "outputs": []
    },
    {
      "cell_type": "code",
      "metadata": {
        "id": "U-m_rc8FSilP"
      },
      "source": [
        "import bisect\n",
        "import collections\n",
        "import contextlib\n",
        "import dataclasses\n",
        "import functools\n",
        "import heapq\n",
        "import itertools\n",
        "import json\n",
        "import math\n",
        "import operator\n",
        "import pathlib\n",
        "import pprint\n",
        "import random\n",
        "import re\n",
        "import sys\n",
        "import textwrap\n",
        "import time\n",
        "from typing import Any, Callable, Dict, List, Mapping\n",
        "from typing import Optional, Set, Tuple, Union\n",
        "import unittest.mock\n",
        "import urllib.request\n",
        "\n",
        "import mediapy as media\n",
        "import numpy as np"
      ],
      "execution_count": 2,
      "outputs": []
    },
    {
      "cell_type": "code",
      "metadata": {
        "id": "8GjlYWchg4uZ"
      },
      "source": [
        "!wget -q https://www.dropbox.com/s/8k8go50bc46cwhp/hhoppe_utils.py?raw=1 -O hhoppe_utils.py || echo \"wget FAILED\"\n",
        "import hhoppe_utils as hh"
      ],
      "execution_count": 3,
      "outputs": []
    },
    {
      "cell_type": "code",
      "metadata": {
        "id": "3QFM-iOPs_43"
      },
      "source": [
        "YEAR = 2021"
      ],
      "execution_count": 4,
      "outputs": []
    },
    {
      "cell_type": "code",
      "metadata": {
        "id": "ipZkTdpHnsDn"
      },
      "source": [
        "# (1) To obtain puzzle inputs and answers, we first try these PATHS/URLS:\n",
        "PROFILE = 'google.Hugues%20Hoppe.965276'\n",
        "# PROFILE = 'github.hhoppe.1452460'\n",
        "INPUT_PATH_OR_URL_FORMAT = 'https://github.com/hhoppe/advent_of_code_{year}/raw/main/data/{PROFILE}/{year}_{day:02d}_input.txt'\n",
        "ANSWER_PATH_OR_URL_FORMAT = 'https://github.com/hhoppe/advent_of_code_{year}/raw/main/data/{PROFILE}/{year}_{day:02d}{part_letter}_answer.txt'"
      ],
      "execution_count": 5,
      "outputs": []
    },
    {
      "cell_type": "code",
      "metadata": {
        "id": "PaaZaNmtnsDn"
      },
      "source": [
        "# (2) If not found, we optionally try adventofcode.com using a session cookie:\n",
        "if 0:\n",
        "  # See https://github.com/wimglenn/advent-of-code-data.\n",
        "  !rm -f ~/.config/aocd/token*\n",
        "  # Fill-in the session cookie in the following:\n",
        "  !if [ '{PROFILE}' == 'google.Hugues%20Hoppe.965276' ]; then mkdir -p ~/.config/aocd && echo 53616... >~/.config/aocd/token; fi\n",
        "  !if [ '{PROFILE}' == 'github.hhoppe.1452460' ]; then mkdir -p ~/.config/aocd; echo 53616... >~/.config/aocd/token; fi\n",
        "  !pip install -q advent-of-code-data\n",
        "  import aocd"
      ],
      "execution_count": 6,
      "outputs": []
    },
    {
      "cell_type": "code",
      "metadata": {
        "id": "SS2dbAs3TM7y"
      },
      "source": [
        "try:\n",
        "  import numba\n",
        "  using_numba = True\n",
        "  numba_njit = numba.njit\n",
        "except ModuleNotFoundError:\n",
        "  print('numba unavailable')\n",
        "  using_numba = False\n",
        "  def noop_decorator(*args: Any, **kwargs: Any) -> Any:\n",
        "    \"\"\"Function decorator that ignores any arguments and does nothing.\"\"\"\n",
        "    return (args[0] if len(args) == 1 and callable(args[0]) and not kwargs\n",
        "            else noop_decorator)\n",
        "  numba_njit = noop_decorator"
      ],
      "execution_count": 7,
      "outputs": []
    },
    {
      "cell_type": "code",
      "metadata": {
        "id": "6M3KdXtHK9Tn"
      },
      "source": [
        "def check_eq(a: Any, b: Any) -> None:\n",
        "  if np.any(a != b):\n",
        "    raise AssertionError(f'{a!r} == {b!r}')\n",
        "\n",
        "\n",
        "def np_int_from_ch(a, int_from_ch: Mapping[str, int],\n",
        "                   dtype=None) -> np.ndarray:\n",
        "  \"\"\"Returns array of integers by mapping from array of characters.\"\"\"\n",
        "  a = np.asarray(a).view(np.int32)\n",
        "  lookup = np.zeros(np.max(a) + 1, dtype=dtype or np.int64)\n",
        "  for ch, value in int_from_ch.items():\n",
        "    lookup[ord(ch)] = value\n",
        "  return lookup[a]\n",
        "\n",
        "\n",
        "def grid_from_string(s: str, int_from_ch: Optional[Mapping[str, int]] = None,\n",
        "    dtype=None) -> np.ndarray:\n",
        "  \"\"\"Returns 2D grid (of characters or integers) from a multiline string.\"\"\"\n",
        "  if 0:  # slow\n",
        "    grid = np.array(list(map(list, s.strip('\\n').split('\\n'))))\n",
        "\n",
        "  else:  # fast\n",
        "    lines = s.strip('\\n').split('\\n')\n",
        "    height, width = len(lines), len(lines[0])\n",
        "    grid = np.empty((height, width), dtype='U1')\n",
        "    dtype_for_row = f'U{width}'\n",
        "    for i, line in enumerate(lines):\n",
        "      grid[i].view(dtype_for_row)[0] = line\n",
        "\n",
        "  if int_from_ch is not None:\n",
        "    grid = np_int_from_ch(grid, int_from_ch, dtype=dtype)\n",
        "  return grid\n",
        "\n",
        "\n",
        "def read_contents(path_or_url: str) -> bytes:\n",
        "  if path_or_url.startswith(('http://', 'https://')):\n",
        "    with urllib.request.urlopen(path_or_url) as response:\n",
        "      data: bytes = response.read()\n",
        "    return data\n",
        "  with open(path_or_url, 'rb') as f:\n",
        "    return f.read()\n",
        "\n",
        "\n",
        "@dataclasses.dataclass\n",
        "class PuzzlePart:\n",
        "  day: int\n",
        "  part: int\n",
        "  answer: Optional[str] = None\n",
        "  func: Optional[Callable[[str], Union[str, int]]] = None\n",
        "  slow: bool = False\n",
        "  elapsed_time: float = -0.0\n",
        "\n",
        "  def compute(self, input: str, silent: bool = False, repeat: int = 1) -> None:\n",
        "    assert self.func\n",
        "    if self.slow and not advent.also_run_slow_tests:\n",
        "      print('Skipping slow computation because `also_run_slow_tests` is False')\n",
        "      return\n",
        "    elapsed_times = []\n",
        "    for _ in range(repeat):\n",
        "      with contextlib.ExitStack() as stack:\n",
        "        if silent:\n",
        "          for f in ('sys.stdout', 'sys.stderr', 'IPython.display.display'):\n",
        "            stack.enter_context(unittest.mock.patch(f))\n",
        "        start_time = time.time()\n",
        "        result = str(self.func(input))\n",
        "        elapsed_times.append(time.time() - start_time)\n",
        "      if self.answer is not None:\n",
        "        if result != self.answer:\n",
        "          raise AssertionError(f'Result {result!r} != expected {self.answer!r}')\n",
        "      else:\n",
        "        print(f'Obtained result {result!r}.')\n",
        "        if advent.use_aocd:\n",
        "          puz = aocd.models.Puzzle(year=advent.year, day=self.day)\n",
        "          if self.part == 1:\n",
        "            puz.answer_a = result  # Submit.\n",
        "            if puz.answered_a:\n",
        "              self.answer = puz.answer_a\n",
        "          elif self.part == 2:\n",
        "            puz.answer_b = result\n",
        "            if puz.answered_b:\n",
        "              self.answer = puz.answer_b\n",
        "          else:\n",
        "            raise AssertionError()\n",
        "        else:\n",
        "          self.answer = result\n",
        "    self.elapsed_time = min(elapsed_times)\n",
        "    if not silent:\n",
        "      print(f'(Part {self.part}: {self.elapsed_time:#5.3f} s)', flush=True)\n",
        "\n",
        "\n",
        "@dataclasses.dataclass\n",
        "class Puzzle:\n",
        "  day: int\n",
        "  input: str = ''\n",
        "  parts: Dict[int, PuzzlePart] = dataclasses.field(default_factory=dict)  # 1..2\n",
        "  silent: bool = False\n",
        "\n",
        "  def __post_init__(self) -> None:\n",
        "    advent.puzzles[self.day] = self\n",
        "    if self.input:\n",
        "      self.input = self.input.lstrip('\\n')\n",
        "    if not self.input and INPUT_PATH_OR_URL_FORMAT:\n",
        "      path_or_url = INPUT_PATH_OR_URL_FORMAT.format(\n",
        "          **globals(), year=advent.year, day=self.day)\n",
        "      try:\n",
        "        self.input = read_contents(path_or_url).decode()\n",
        "      except:\n",
        "        pass\n",
        "    if not self.input and advent.use_aocd:\n",
        "      puz = aocd.models.Puzzle(year=advent.year, day=self.day)\n",
        "      self.input = puz.input_data\n",
        "    self.input.strip('\\n')\n",
        "    if not self.input:\n",
        "      raise ValueError('The puzzle input cannot be determined.')\n",
        "    for part in (1, 2):\n",
        "      puzzle_part = self.parts[part] = PuzzlePart(self.day, part)\n",
        "      if ANSWER_PATH_OR_URL_FORMAT:\n",
        "        path_or_url = ANSWER_PATH_OR_URL_FORMAT.format(\n",
        "            **globals(), year=advent.year, day=self.day, part=part,\n",
        "            part_letter='.ab'[part])\n",
        "        try:\n",
        "          puzzle_part.answer = read_contents(path_or_url).decode()\n",
        "        except:\n",
        "          pass\n",
        "      if puzzle_part.answer is None and advent.use_aocd:\n",
        "        puz = aocd.models.Puzzle(year=advent.year, day=self.day)\n",
        "        if part == 1 and puz.answered_a:\n",
        "          puzzle_part.answer = puz.answer_a\n",
        "        if part == 2 and puz.answered_b:\n",
        "          puzzle_part.answer = puz.answer_b\n",
        "    if not self.silent:\n",
        "      self.print_summary()\n",
        "\n",
        "  def print_summary(self) -> None:\n",
        "    lines = [(line[:80] + ' ... ' + line[-35:] if len(line) > 120 else line)\n",
        "            for line in self.input.strip('\\n').split('\\n')]\n",
        "    lines2 = lines[:8] + [' ...'] + lines[-4:] if len(lines) > 13 else lines\n",
        "    s = '\\n'.join(lines2)\n",
        "    print(f'For day {self.day}, puzzle.input has {len(lines)} lines:\\n{s}')\n",
        "    answers = {part: self.parts[part].answer for part in (1, 2)}\n",
        "    print(f'And the stored answers are: {answers}')\n",
        "\n",
        "  def verify(self, part: int, func: Callable[[str], Union[str, int]],\n",
        "            slow: bool = False, repeat: int = 1) -> None:\n",
        "    puzzle_part = self.parts[part]\n",
        "    puzzle_part.func = func\n",
        "    puzzle_part.slow = slow\n",
        "    puzzle_part.compute(self.input, repeat=repeat)\n",
        "\n",
        "\n",
        "@dataclasses.dataclass\n",
        "class Advent:\n",
        "  year: int\n",
        "  also_run_slow_tests: bool = False\n",
        "  puzzles: Dict[int, Puzzle] = dataclasses.field(default_factory=dict)  # [day]\n",
        "\n",
        "  def __post_init__(self) -> None:\n",
        "    self.use_aocd = ('aocd' in globals() and\n",
        "                     pathlib.Path('~/.config/aocd/token').expanduser().exists())\n",
        "\n",
        "  def puzzle(self, *args: Any, **kwargs: Any) -> Puzzle:\n",
        "    return Puzzle(*args, **kwargs)\n",
        "\n",
        "  def show_times(self, recompute: bool = False, repeat: int = 1) -> None:\n",
        "    if recompute and repeat > 1:\n",
        "      print(f'(Computing min times over {repeat} calls.)')\n",
        "    total = 0.0\n",
        "    for day, puzzle in sorted(self.puzzles.items()):\n",
        "      s = f'day_{day:<2}'\n",
        "      for part in (1, 2):\n",
        "        s += f'   part_{part}:'\n",
        "        puzzle_part = puzzle.parts.get(part)\n",
        "        if not puzzle_part:\n",
        "          s += '  n/a '\n",
        "          continue\n",
        "        if recompute and puzzle_part.func:\n",
        "          puzzle_part.compute(puzzle.input, silent=True, repeat=repeat)\n",
        "        s += f'{puzzle_part.elapsed_time:#6.3f}'\n",
        "        total += puzzle_part.elapsed_time\n",
        "      print(s)\n",
        "    print(f'Total time:{total:#7.3f} s')\n",
        "\n",
        "\n",
        "advent = Advent(year=YEAR, also_run_slow_tests=False)"
      ],
      "execution_count": 8,
      "outputs": []
    },
    {
      "cell_type": "markdown",
      "metadata": {
        "id": "VkILHq5ttVww"
      },
      "source": [
        "<a name=\"day1\"></a>\n",
        "## Day 1: Increasing numbers in sequence"
      ]
    },
    {
      "cell_type": "markdown",
      "metadata": {
        "id": "mO8EBmzvtVwx"
      },
      "source": [
        "- Part 1: How many measurements are larger than the previous measurement?\n",
        "\n",
        "- Part 2: Consider sums of a three-measurement sliding window. How many sums are larger than the previous sum?"
      ]
    },
    {
      "cell_type": "code",
      "metadata": {
        "id": "wi6EOpG_tVwx",
        "colab": {
          "base_uri": "https://localhost:8080/"
        },
        "outputId": "83e11dd3-70a2-49fc-a8ba-e8cbae56e43b"
      },
      "source": [
        "puzzle = advent.puzzle(day=1)"
      ],
      "execution_count": 9,
      "outputs": [
        {
          "output_type": "stream",
          "name": "stdout",
          "text": [
            "For day 1, puzzle.input has 2000 lines:\n",
            "198\n",
            "208\n",
            "209\n",
            "212\n",
            "213\n",
            "217\n",
            "218\n",
            "223\n",
            " ...\n",
            "10902\n",
            "10903\n",
            "10931\n",
            "10930\n",
            "And the stored answers are: {1: '1791', 2: '1822'}\n"
          ]
        }
      ]
    },
    {
      "cell_type": "code",
      "metadata": {
        "id": "DxEu6oHEtVwx"
      },
      "source": [
        "s1 = \"\"\"\n",
        "199\n",
        "200\n",
        "208\n",
        "210\n",
        "200\n",
        "207\n",
        "240\n",
        "269\n",
        "260\n",
        "263\n",
        "\"\"\""
      ],
      "execution_count": 10,
      "outputs": []
    },
    {
      "cell_type": "code",
      "metadata": {
        "id": "0rvSQxwUyPuG"
      },
      "source": [
        "def sliding_window(iterable, n):\n",
        "  \"\"\"sliding_window('ABCDEFG', 4) -> ABCD BCDE CDEF DEFG\"\"\"\n",
        "  # From https://docs.python.org/3/library/itertools.html\n",
        "  it = iter(iterable)\n",
        "  window = collections.deque(itertools.islice(it, n), maxlen=n)\n",
        "  if len(window) == n:\n",
        "    yield tuple(window)\n",
        "  for x in it:\n",
        "    window.append(x)\n",
        "    yield tuple(window)"
      ],
      "execution_count": 11,
      "outputs": []
    },
    {
      "cell_type": "code",
      "metadata": {
        "colab": {
          "base_uri": "https://localhost:8080/"
        },
        "id": "D_8ZcUBmq0H4",
        "outputId": "be69689c-8ed5-46d2-a6b0-eec56e82417f"
      },
      "source": [
        "def process1(s, part2=False):  # Solution based on generators.\n",
        "  sequence = map(int, s.strip().split('\\n'))\n",
        "  if part2:\n",
        "    sequence = (sum(window) for window in sliding_window(sequence, 3))\n",
        "  return sum(a < b for a, b in sliding_window(sequence, 2))\n",
        "\n",
        "\n",
        "check_eq(process1(s1), 7)\n",
        "puzzle.verify(1, process1)\n",
        "\n",
        "process2 = functools.partial(process1, part2=True)\n",
        "check_eq(process2(s1), 5)\n",
        "puzzle.verify(2, process2)"
      ],
      "execution_count": 12,
      "outputs": [
        {
          "output_type": "stream",
          "name": "stdout",
          "text": [
            "(Part 1: 0.001 s)\n",
            "(Part 2: 0.003 s)\n"
          ]
        }
      ]
    },
    {
      "cell_type": "code",
      "metadata": {
        "id": "cfV3cgvZtVwx",
        "colab": {
          "base_uri": "https://localhost:8080/"
        },
        "outputId": "835e9af0-4545-4931-d650-28e4ec5ea099"
      },
      "source": [
        "def process1(s, part2=False):  # Solution using numpy; fastest.\n",
        "  sequence = list(map(int, s.strip('\\n').split('\\n')))\n",
        "  if part2:\n",
        "    sequence = np.convolve(sequence, [1, 1, 1], mode='valid')\n",
        "  return np.count_nonzero(np.diff(sequence) > 0)\n",
        "\n",
        "\n",
        "check_eq(process1(s1), 7)\n",
        "puzzle.verify(1, process1)\n",
        "\n",
        "process2 = functools.partial(process1, part2=True)\n",
        "check_eq(process2(s1), 5)\n",
        "puzzle.verify(2, process2)"
      ],
      "execution_count": 13,
      "outputs": [
        {
          "output_type": "stream",
          "name": "stdout",
          "text": [
            "(Part 1: 0.001 s)\n",
            "(Part 2: 0.001 s)\n"
          ]
        }
      ]
    },
    {
      "cell_type": "markdown",
      "metadata": {
        "id": "C7cGpE_jtXew"
      },
      "source": [
        "<a name=\"day2\"></a>\n",
        "## Day 2: Commands to move in 2D"
      ]
    },
    {
      "cell_type": "markdown",
      "metadata": {
        "id": "tQrmjmTKtXew"
      },
      "source": [
        "- Part 1: What do you get if you multiply your final horizontal position by your final depth?\n",
        "\n",
        "- Part 2: What do you get if you multiply your final horizontal position by your final depth?"
      ]
    },
    {
      "cell_type": "code",
      "metadata": {
        "id": "dpi0evmgtXew",
        "colab": {
          "base_uri": "https://localhost:8080/"
        },
        "outputId": "db43588d-d5d0-4706-f69d-f3a04f477c94"
      },
      "source": [
        "puzzle = advent.puzzle(day=2)"
      ],
      "execution_count": 14,
      "outputs": [
        {
          "output_type": "stream",
          "name": "stdout",
          "text": [
            "For day 2, puzzle.input has 1000 lines:\n",
            "forward 3\n",
            "down 4\n",
            "forward 3\n",
            "up 4\n",
            "down 4\n",
            "down 6\n",
            "down 3\n",
            "down 1\n",
            " ...\n",
            "down 7\n",
            "forward 5\n",
            "forward 3\n",
            "forward 7\n",
            "And the stored answers are: {1: '2150351', 2: '1842742223'}\n"
          ]
        }
      ]
    },
    {
      "cell_type": "code",
      "metadata": {
        "id": "yKvXQjsxtXex"
      },
      "source": [
        "s1 = \"\"\"\n",
        "forward 5\n",
        "down 5\n",
        "forward 8\n",
        "up 3\n",
        "down 8\n",
        "forward 2\n",
        "\"\"\""
      ],
      "execution_count": 15,
      "outputs": []
    },
    {
      "cell_type": "code",
      "metadata": {
        "id": "YT23vP1wtXex",
        "colab": {
          "base_uri": "https://localhost:8080/"
        },
        "outputId": "57b79024-e443-46fd-c358-054bce1a60f7"
      },
      "source": [
        "def process1(s):\n",
        "  y, x = 0, 0\n",
        "  for line in s.strip('\\n').split('\\n'):\n",
        "    command, value = line.split(' ')\n",
        "    value = int(value)\n",
        "    if command == 'forward':\n",
        "      x += value\n",
        "    elif command == 'down':\n",
        "      y += value\n",
        "    elif command == 'up':\n",
        "      y -= value\n",
        "    else:\n",
        "      assert False\n",
        "  return x * y\n",
        "\n",
        "check_eq(process1(s1), 150)\n",
        "puzzle.verify(1, process1)"
      ],
      "execution_count": 16,
      "outputs": [
        {
          "output_type": "stream",
          "name": "stdout",
          "text": [
            "(Part 1: 0.001 s)\n"
          ]
        }
      ]
    },
    {
      "cell_type": "code",
      "metadata": {
        "id": "CzO0m5lXtXex",
        "colab": {
          "base_uri": "https://localhost:8080/"
        },
        "outputId": "af0d825c-8b56-4efe-a53b-75a4b073114c"
      },
      "source": [
        "def process2(s):\n",
        "  y, x, aim = 0, 0, 0\n",
        "  for line in s.strip('\\n').split('\\n'):\n",
        "    command, value = line.split(' ')\n",
        "    value = int(value)\n",
        "    if command == 'forward':\n",
        "      x += value\n",
        "      y += aim * value\n",
        "    elif command == 'down':\n",
        "      aim += value\n",
        "    elif command == 'up':\n",
        "      aim -= value\n",
        "    else:\n",
        "      assert False\n",
        "  return x * y\n",
        "\n",
        "check_eq(process2(s1), 900)\n",
        "puzzle.verify(2, process2)"
      ],
      "execution_count": 17,
      "outputs": [
        {
          "output_type": "stream",
          "name": "stdout",
          "text": [
            "(Part 2: 0.001 s)\n"
          ]
        }
      ]
    },
    {
      "cell_type": "markdown",
      "metadata": {
        "id": "Xn5eovgdtXiy"
      },
      "source": [
        "<a name=\"day3\"></a>\n",
        "## Day 3: Most common chars in strings"
      ]
    },
    {
      "cell_type": "markdown",
      "metadata": {
        "id": "il6-1LuRtXiy"
      },
      "source": [
        "- Part 1: Determine the string made up of the the most (and then least) common characters in each position, interpret these two strings as binary numbers, and return their product.\n",
        "\n",
        "- Part 2: Successively cull the list of strings matching the most common character in each successive position until a single string remain, repeat the process using the least common character, and return the product of those two binary numbers."
      ]
    },
    {
      "cell_type": "code",
      "metadata": {
        "id": "36g3-l4JtXiy",
        "colab": {
          "base_uri": "https://localhost:8080/"
        },
        "outputId": "8a0e5eca-409c-4244-b1ac-bebd2081c381"
      },
      "source": [
        "puzzle = advent.puzzle(day=3)"
      ],
      "execution_count": 18,
      "outputs": [
        {
          "output_type": "stream",
          "name": "stdout",
          "text": [
            "For day 3, puzzle.input has 1000 lines:\n",
            "001000010101\n",
            "010010111110\n",
            "001010110111\n",
            "001001011101\n",
            "001001010011\n",
            "001111100111\n",
            "100000000101\n",
            "010001011011\n",
            " ...\n",
            "100110010011\n",
            "100111111011\n",
            "000010010011\n",
            "100111101100\n",
            "And the stored answers are: {1: '3633500', 2: '4550283'}\n"
          ]
        }
      ]
    },
    {
      "cell_type": "code",
      "metadata": {
        "id": "F-cbVuqZtXiy"
      },
      "source": [
        "s1 = \"\"\"\n",
        "00100\n",
        "11110\n",
        "10110\n",
        "10111\n",
        "10101\n",
        "01111\n",
        "00111\n",
        "11100\n",
        "10000\n",
        "11001\n",
        "00010\n",
        "01010\n",
        "\"\"\""
      ],
      "execution_count": 19,
      "outputs": []
    },
    {
      "cell_type": "code",
      "metadata": {
        "colab": {
          "base_uri": "https://localhost:8080/"
        },
        "id": "A897ikNyv_9n",
        "outputId": "8cc19ab7-dbe0-42bd-f7e3-8745ace8efb3"
      },
      "source": [
        "def process1(s, part2=False):\n",
        "  lines = s.strip('\\n').split('\\n')\n",
        "\n",
        "  def most_and_least_common(lines):\n",
        "    t = np.sum([[int(ch) for ch in line] for line in lines], axis=0)\n",
        "    s1 = ''.join(str(int(b)) for b in t >= (len(lines) + 1) // 2)\n",
        "    s2 = s1.translate(str.maketrans('01', '10'))\n",
        "    return s1, s2\n",
        "\n",
        "  if not part2:\n",
        "    s1, s2 = most_and_least_common(lines)\n",
        "    return int(s1, base=2) * int(s2, base=2)\n",
        "  \n",
        "  def cull_lines(part):\n",
        "    lines2 = lines\n",
        "    for i in itertools.count():\n",
        "      s = most_and_least_common(lines2)[part]\n",
        "      lines2 = [line for line in lines2 if line[i] == s[i]]\n",
        "      if len(lines2) == 1:\n",
        "        return int(lines2[0], base=2)\n",
        "\n",
        "  return cull_lines(0) * cull_lines(1)\n",
        "\n",
        "\n",
        "check_eq(process1(s1), 198)\n",
        "puzzle.verify(1, process1)\n",
        "\n",
        "process2 = functools.partial(process1, part2=True)\n",
        "check_eq(process2(s1), 230)\n",
        "puzzle.verify(2, process2)"
      ],
      "execution_count": 20,
      "outputs": [
        {
          "output_type": "stream",
          "name": "stdout",
          "text": [
            "(Part 1: 0.005 s)\n",
            "(Part 2: 0.020 s)\n"
          ]
        }
      ]
    },
    {
      "cell_type": "markdown",
      "metadata": {
        "id": "dbNAoIrBtXmS"
      },
      "source": [
        "<a name=\"day4\"></a>\n",
        "## Day 4: Bingo"
      ]
    },
    {
      "cell_type": "markdown",
      "metadata": {
        "id": "JTT43Kp_tXmS"
      },
      "source": [
        "- Part 1: For the first winning board, what is the product of winning number and the sum of the unmarked numbers?\n",
        "\n",
        "- Part 2: What is this same score for the last winning board?"
      ]
    },
    {
      "cell_type": "code",
      "metadata": {
        "id": "r74NcLZztXmT",
        "colab": {
          "base_uri": "https://localhost:8080/"
        },
        "outputId": "1acfdae5-ab55-4b14-9a71-9136bc242ff1"
      },
      "source": [
        "puzzle = advent.puzzle(day=4)"
      ],
      "execution_count": 21,
      "outputs": [
        {
          "output_type": "stream",
          "name": "stdout",
          "text": [
            "For day 4, puzzle.input has 601 lines:\n",
            "83,69,34,46,30,23,19,75,22,37,89,78,32,39,11,44,95,43,26,48,84,53,94,88,18,40,62 ... 16,58,85,87,12,29,25,14,96,56,60,81\n",
            "\n",
            "68 73 98 51 49\n",
            "82 56 87 64  8\n",
            "46  7 21 38 30\n",
            "66  5 86 97 74\n",
            "60 63 76 55 39\n",
            "\n",
            " ...\n",
            "53 98 28 52 19\n",
            "66 51 46 77 15\n",
            "34 36 47 80 14\n",
            " 7 89 62  9 49\n",
            "And the stored answers are: {1: '41668', 2: '10478'}\n"
          ]
        }
      ]
    },
    {
      "cell_type": "code",
      "metadata": {
        "id": "kQDcZ5uhtXmT"
      },
      "source": [
        "s1 = \"\"\"\n",
        "7,4,9,5,11,17,23,2,0,14,21,24,10,16,13,6,15,25,12,22,18,20,8,19,3,26,1\n",
        "\n",
        "22 13 17 11  0\n",
        " 8  2 23  4 24\n",
        "21  9 14 16  7\n",
        " 6 10  3 18  5\n",
        " 1 12 20 15 19\n",
        "\n",
        " 3 15  0  2 22\n",
        " 9 18 13 17  5\n",
        "19  8  7 25 23\n",
        "20 11 10 24  4\n",
        "14 21 16 12  6\n",
        "\n",
        "14 21 17 24  4\n",
        "10 16 15  9 19\n",
        "18  8 23 26 20\n",
        "22 11 13  6  5\n",
        " 2  0 12  3  7\n",
        "\"\"\""
      ],
      "execution_count": 22,
      "outputs": []
    },
    {
      "cell_type": "code",
      "metadata": {
        "id": "2b4xUxBY77-A"
      },
      "source": [
        "def process1(s, part2=False):  # More readable.\n",
        "  sections = s.strip('\\n').split('\\n\\n')\n",
        "  numbers = list(map(int, sections[0].split(',')))\n",
        "  boards = np.array([\n",
        "      [[int(n) for n in line.split()] for line in t.split('\\n')]\n",
        "      for t in sections[1:] \n",
        "  ])\n",
        "  matches = np.full(boards.shape, False)\n",
        "  scores = []\n",
        "  previously_finished = np.full(len(boards), False)\n",
        "  for number in numbers:\n",
        "    matches[boards == number] = True\n",
        "    finished = ((matches.sum(axis=1).max(axis=1) == boards.shape[1]) |\n",
        "                (matches.sum(axis=2).max(axis=1) == boards.shape[2]))\n",
        "    for winner in np.argwhere(finished & ~previously_finished):\n",
        "      scores.append(boards[winner][~matches[winner]].sum() * number)\n",
        "    previously_finished = finished\n",
        "  \n",
        "  return scores[-1 if part2 else 0]"
      ],
      "execution_count": 23,
      "outputs": []
    },
    {
      "cell_type": "code",
      "metadata": {
        "colab": {
          "base_uri": "https://localhost:8080/"
        },
        "id": "VdLz3kn4reo_",
        "outputId": "f44d232d-a3ad-462c-a1ee-111a0d5b5059"
      },
      "source": [
        "def process1(s, part2=False):  # More terse.\n",
        "  sections = s.strip().split('\\n\\n')\n",
        "  boards = np.array([\n",
        "      [[int(n) for n in line.split()] for line in t.split('\\n')]\n",
        "      for t in sections[1:] \n",
        "  ])\n",
        "  matches = boards < 0\n",
        "  scores = []\n",
        "  previously_finished = False\n",
        "  for number in map(int, sections[0].split(',')):\n",
        "    matches[boards == number] = True\n",
        "    finished = ((matches.sum(1).max(1) == boards.shape[1]) |\n",
        "                (matches.sum(2).max(1) == boards.shape[2]))\n",
        "    for winner in np.argwhere(finished & ~previously_finished):\n",
        "      scores.append(boards[winner][~matches[winner]].sum() * number)\n",
        "    previously_finished = finished\n",
        "  \n",
        "  return scores[-int(part2)]\n",
        "\n",
        "\n",
        "check_eq(process1(s1), 4512)\n",
        "puzzle.verify(1, process1)\n",
        "\n",
        "process2 = functools.partial(process1, part2=True)\n",
        "check_eq(process2(s1), 1924)\n",
        "puzzle.verify(2, process2)"
      ],
      "execution_count": 24,
      "outputs": [
        {
          "output_type": "stream",
          "name": "stdout",
          "text": [
            "(Part 1: 0.011 s)\n",
            "(Part 2: 0.011 s)\n"
          ]
        }
      ]
    },
    {
      "cell_type": "markdown",
      "metadata": {
        "id": "hbuQ8abHtXpd"
      },
      "source": [
        "<a name=\"day5\"></a>\n",
        "## Day 5: Coverage of line segments"
      ]
    },
    {
      "cell_type": "markdown",
      "metadata": {
        "id": "4J6TqUmntXpd"
      },
      "source": [
        "- Part 1: Ignoring diagonal segments, what is the count of gridpoints covered by at least two segments?\n",
        "\n",
        "- Part 2: Including diagonal segments, what is the count of gridpoints covered by at least two segments?"
      ]
    },
    {
      "cell_type": "code",
      "metadata": {
        "id": "aMxdNNKJtXpe",
        "colab": {
          "base_uri": "https://localhost:8080/"
        },
        "outputId": "f6b16287-5cbc-4e06-b2a4-0f8486408a6c"
      },
      "source": [
        "puzzle = advent.puzzle(day=5)"
      ],
      "execution_count": 25,
      "outputs": [
        {
          "output_type": "stream",
          "name": "stdout",
          "text": [
            "For day 5, puzzle.input has 500 lines:\n",
            "959,103 -> 139,923\n",
            "899,63 -> 899,53\n",
            "591,871 -> 364,644\n",
            "739,913 -> 310,484\n",
            "460,309 -> 460,705\n",
            "351,389 -> 351,837\n",
            "420,55 -> 420,541\n",
            "916,520 -> 382,520\n",
            " ...\n",
            "139,153 -> 936,950\n",
            "436,978 -> 244,978\n",
            "921,633 -> 921,340\n",
            "872,63 -> 233,63\n",
            "And the stored answers are: {1: '7318', 2: '19939'}\n"
          ]
        }
      ]
    },
    {
      "cell_type": "code",
      "metadata": {
        "id": "ODbSSwDytXpe"
      },
      "source": [
        "s1 = \"\"\"\n",
        "0,9 -> 5,9\n",
        "8,0 -> 0,8\n",
        "9,4 -> 3,4\n",
        "2,2 -> 2,1\n",
        "7,0 -> 7,4\n",
        "6,4 -> 2,0\n",
        "0,9 -> 2,9\n",
        "3,4 -> 1,4\n",
        "0,0 -> 8,8\n",
        "5,5 -> 8,2\n",
        "\"\"\""
      ],
      "execution_count": 26,
      "outputs": []
    },
    {
      "cell_type": "code",
      "metadata": {
        "id": "tvZG79SntXpe"
      },
      "source": [
        "def process1(s, part2=False):  # Initial implementation.\n",
        "  count = collections.defaultdict(int)\n",
        "  for line in s.strip('\\n').split('\\n'):\n",
        "    pattern = r'(\\d+),(\\d+) -> (\\d+),(\\d+)'\n",
        "    x1, y1, x2, y2 = map(int, re.fullmatch(pattern, line).groups())\n",
        "    if y2 < y1:\n",
        "      y1, x1, y2, x2 = y2, x2, y1, x1\n",
        "    if x1 != x2 and y1 != y2:\n",
        "      if part2:\n",
        "        x, dx = x1, np.sign(x2 - x1)\n",
        "        for y in range(y1, y2 + 1):\n",
        "          count[y, x] += 1\n",
        "          x += dx\n",
        "    else:\n",
        "      for y in range(y1, y2 + 1):\n",
        "        for x in range(min(x1, x2), max(x1, x2) + 1):\n",
        "          count[y, x] += 1\n",
        "  \n",
        "  return sum(v >= 2 for v in count.values())"
      ],
      "execution_count": 27,
      "outputs": []
    },
    {
      "cell_type": "code",
      "metadata": {
        "id": "LyMjMfVIriXv"
      },
      "source": [
        "def process1(s, part2=False):  # Compact but slower; supports any dimension.\n",
        "  count = collections.Counter()\n",
        "  for line in s.strip().split('\\n'):\n",
        "    p, q = (np.array(list(map(int, t.split(',')))) for t in line.split(' -> '))\n",
        "    if part2 or any(p == q):\n",
        "      d = np.sign(q - p)\n",
        "      while any(p != q + d):\n",
        "        count[tuple(p)] += 1\n",
        "        p += d\n",
        "  return sum(v >= 2 for v in count.values())"
      ],
      "execution_count": 28,
      "outputs": []
    },
    {
      "cell_type": "code",
      "metadata": {
        "colab": {
          "base_uri": "https://localhost:8080/",
          "height": 1039
        },
        "id": "l9IQVuxrrln4",
        "outputId": "d8defd91-f0db-48fc-b3d3-a041b2e1c5d9"
      },
      "source": [
        "def process1(s, part2=False, visualize=False):  # Fastest.\n",
        "  count = collections.defaultdict(int)\n",
        "  for line in s.strip().split('\\n'):\n",
        "    pattern = r'(\\d+),(\\d+) -> (\\d+),(\\d+)'\n",
        "    x1, y1, x2, y2 = map(int, re.fullmatch(pattern, line).groups())\n",
        "    dx, dy = x2 - x1, y2 - y1\n",
        "    xinc, yinc = np.sign((dx, dy))\n",
        "    if dx == 0:\n",
        "      for _ in range(abs(dy) + 1):\n",
        "        count[y1, x1] += 1\n",
        "        y1 += yinc\n",
        "    elif dy == 0:\n",
        "      for _ in range(abs(dx) + 1):\n",
        "        count[y1, x1] += 1\n",
        "        x1 += xinc\n",
        "    elif part2:\n",
        "      for _ in range(abs(dx) + 1):\n",
        "        count[y1, x1] += 1\n",
        "        x1, y1 = x1 + xinc, y1 + yinc\n",
        "  \n",
        "  if visualize:\n",
        "    media.show_image(hh.grid_from_indices(count).astype(float))\n",
        "\n",
        "  return sum(v >= 2 for v in count.values())\n",
        "\n",
        "\n",
        "check_eq(process1(s1), 5)\n",
        "puzzle.verify(1, process1)\n",
        "\n",
        "process2 = functools.partial(process1, part2=True)\n",
        "check_eq(process2(s1), 12)\n",
        "puzzle.verify(2, process2)\n",
        "\n",
        "_ = process2(puzzle.input, visualize=True)\n",
        "media.set_max_output_height(2000)"
      ],
      "execution_count": 29,
      "outputs": [
        {
          "output_type": "stream",
          "name": "stdout",
          "text": [
            "(Part 1: 0.106 s)\n",
            "(Part 2: 0.193 s)\n"
          ]
        },
        {
          "output_type": "display_data",
          "data": {
            "text/html": [
              "<table class=\"show_images\" style=\"border-spacing:0px;\"><tr><td style=\"padding:1px;\"><img width=\"981\" height=\"981\" style=\"image-rendering:pixelated; object-fit:cover;\" src=\"data:image/png;base64,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\"/></td></tr></table>"
            ],
            "text/plain": [
              "<IPython.core.display.HTML object>"
            ]
          },
          "metadata": {}
        }
      ]
    },
    {
      "cell_type": "markdown",
      "metadata": {
        "id": "B6Xq4_lttXsp"
      },
      "source": [
        "<a name=\"day6\"></a>\n",
        "## Day 6: Population of lanternfish"
      ]
    },
    {
      "cell_type": "markdown",
      "metadata": {
        "id": "kkxW-FhotXsp"
      },
      "source": [
        "- Part 1: How many lanternfish would there be after 80 days?\n",
        "\n",
        "- Part 2: How many lanternfish would there be after 256 days?"
      ]
    },
    {
      "cell_type": "code",
      "metadata": {
        "id": "FIiUpAYptXsp",
        "colab": {
          "base_uri": "https://localhost:8080/"
        },
        "outputId": "dab9b563-3e2c-45cc-fa25-beb1a0f50ad5"
      },
      "source": [
        "puzzle = advent.puzzle(day=6)"
      ],
      "execution_count": 30,
      "outputs": [
        {
          "output_type": "stream",
          "name": "stdout",
          "text": [
            "For day 6, puzzle.input has 1 lines:\n",
            "4,1,1,1,5,1,3,1,5,3,4,3,3,1,3,3,1,5,3,2,4,4,3,4,1,4,2,2,1,3,5,1,1,3,2,5,1,1,4,2, ... 5,5,2,4,2,2,5,2,4,1,3,2,1,1,4,4,1,5\n",
            "And the stored answers are: {1: '352195', 2: '1600306001288'}\n"
          ]
        }
      ]
    },
    {
      "cell_type": "code",
      "metadata": {
        "id": "tSw7wtOXtXsp"
      },
      "source": [
        "s1 = \"\"\"3,4,3,1,2\"\"\""
      ],
      "execution_count": 31,
      "outputs": []
    },
    {
      "cell_type": "code",
      "metadata": {
        "colab": {
          "base_uri": "https://localhost:8080/"
        },
        "id": "Gn7dyM9xKE04",
        "outputId": "f12e9be7-380f-4818-cb39-41e854bd0190"
      },
      "source": [
        "def process1(s, part2=False):  # Initial solution, using Counter.\n",
        "  counter = collections.Counter(map(int, s.strip().split(',')))\n",
        "  for _ in range(256 if part2 else 80):\n",
        "    counter2 = collections.Counter()\n",
        "    for e, count in counter.items():\n",
        "      if e == 0:\n",
        "        counter2[8] += count\n",
        "        counter2[6] += count\n",
        "      else:\n",
        "        counter2[e - 1] += count\n",
        "    counter = counter2\n",
        "  return sum(counter.values())  # (counter.total() in Python 3.10)\n",
        "\n",
        "puzzle.verify(1, process1)\n",
        "process2 = functools.partial(process1, part2=True)\n",
        "puzzle.verify(2, process2)"
      ],
      "execution_count": 32,
      "outputs": [
        {
          "output_type": "stream",
          "name": "stdout",
          "text": [
            "(Part 1: 0.001 s)\n",
            "(Part 2: 0.003 s)\n"
          ]
        }
      ]
    },
    {
      "cell_type": "code",
      "metadata": {
        "colab": {
          "base_uri": "https://localhost:8080/"
        },
        "id": "r4aLAhVQOj-X",
        "outputId": "12ee0237-56fa-4d07-a57f-6c64b09d6e51"
      },
      "source": [
        "def process1(s, part2=False):  # List-based approach used by colleagues.\n",
        "  counts = [0] * 9\n",
        "  for i in map(int, s.strip().split(',')):\n",
        "    counts[i] += 1\n",
        "  for _ in range(256 if part2 else 80):\n",
        "    # counts = counts[1:7] + [counts[7] + counts[0]] + counts[8:] + [counts[0]]\n",
        "    tmp = counts[0]\n",
        "    counts = counts[1:] + [tmp]\n",
        "    counts[6] += tmp\n",
        "  return sum(counts)\n",
        "\n",
        "puzzle.verify(1, process1)\n",
        "process2 = functools.partial(process1, part2=True)\n",
        "puzzle.verify(2, process2)"
      ],
      "execution_count": 33,
      "outputs": [
        {
          "output_type": "stream",
          "name": "stdout",
          "text": [
            "(Part 1: 0.000 s)\n",
            "(Part 2: 0.000 s)\n"
          ]
        }
      ]
    },
    {
      "cell_type": "code",
      "metadata": {
        "id": "7XL9yGF5SfIj"
      },
      "source": [
        "if 0:\n",
        "  # Looking at progression for single input, to ideally derive closed-form\n",
        "  # expresssion.  However it looks highly irregular.\n",
        "  def process1(s, part2=False):\n",
        "    counter = collections.Counter(map(int, s.strip().split(',')))\n",
        "    for i in range(80):\n",
        "      counter2 = collections.Counter()\n",
        "      for e, count in counter.items():\n",
        "        if e == 0:\n",
        "          counter2[8] += count\n",
        "          counter2[6] += count\n",
        "        else:\n",
        "          counter2[e - 1] += count\n",
        "      counter = counter2\n",
        "      hh.show(i, sum(counter.values()))\n",
        "\n",
        "  process1('1')"
      ],
      "execution_count": 34,
      "outputs": []
    },
    {
      "cell_type": "markdown",
      "metadata": {
        "id": "PtkQ2k5-tXvS"
      },
      "source": [
        "<a name=\"day7\"></a>\n",
        "## Day 7: Minimize sum of differences"
      ]
    },
    {
      "cell_type": "markdown",
      "metadata": {
        "id": "34wWLLzttXvS"
      },
      "source": [
        "- Part 1: What is the minimal sum of absolute distances?\n",
        "\n",
        "- Part 2: What is the minimal sum of quadratic-like distances?"
      ]
    },
    {
      "cell_type": "code",
      "metadata": {
        "id": "M0PbdA2AtXvS",
        "colab": {
          "base_uri": "https://localhost:8080/"
        },
        "outputId": "d6794029-0bc9-4d1b-dc6d-43f3f3aa9c04"
      },
      "source": [
        "puzzle = advent.puzzle(day=7)"
      ],
      "execution_count": 35,
      "outputs": [
        {
          "output_type": "stream",
          "name": "stdout",
          "text": [
            "For day 7, puzzle.input has 1 lines:\n",
            "1101,1,29,67,1102,0,1,65,1008,65,35,66,1005,66,28,1,67,65,20,4,0,1001,65,1,65,11 ... 89,189,54,230,205,8,123,247,566,947\n",
            "And the stored answers are: {1: '354129', 2: '98905973'}\n"
          ]
        }
      ]
    },
    {
      "cell_type": "code",
      "metadata": {
        "id": "FwrMpqxUtXvS"
      },
      "source": [
        "s1 = \"\"\"16,1,2,0,4,2,7,1,2,14\"\"\""
      ],
      "execution_count": 36,
      "outputs": []
    },
    {
      "cell_type": "code",
      "metadata": {
        "id": "tFo7i1lstXvS"
      },
      "source": [
        "def process1(s, part2=False):  # Brute-force search.\n",
        "  values = np.array(list(map(int, s.split(','))))\n",
        "\n",
        "  def func(x):\n",
        "    diff = np.abs(values - x)\n",
        "    if part2:\n",
        "      diff = (diff + 1) * diff // 2\n",
        "    return diff.sum()\n",
        "\n",
        "  return min(func(x) for x in range(max(values)))"
      ],
      "execution_count": 37,
      "outputs": []
    },
    {
      "cell_type": "code",
      "metadata": {
        "colab": {
          "base_uri": "https://localhost:8080/"
        },
        "id": "p8BPHtIjrtXH",
        "outputId": "406f4b00-cd93-4fff-de49-de6144f21826"
      },
      "source": [
        "def process1(s, part2=False):  # Almost closed-form expression.\n",
        "  values = np.array(list(map(int, s.split(','))))\n",
        "\n",
        "  if not part2:\n",
        "    return np.abs(values - int(np.median(values))).sum()\n",
        "\n",
        "  def func(x):\n",
        "    diff = np.abs(values - x)\n",
        "    return ((diff + 1) * diff // 2).sum()\n",
        "  return min(func(x) for x in np.array([-1, 0, 1]) + int(np.mean(values)))\n",
        "\n",
        "\n",
        "check_eq(process1(s1), 37)\n",
        "puzzle.verify(1, process1)\n",
        "\n",
        "process2 = functools.partial(process1, part2=True)\n",
        "check_eq(process2(s1), 168)\n",
        "puzzle.verify(2, process2)"
      ],
      "execution_count": 38,
      "outputs": [
        {
          "output_type": "stream",
          "name": "stdout",
          "text": [
            "(Part 1: 0.000 s)\n",
            "(Part 2: 0.001 s)\n"
          ]
        }
      ]
    },
    {
      "cell_type": "markdown",
      "metadata": {
        "id": "m91KwomPtXyG"
      },
      "source": [
        "<a name=\"day8\"></a>\n",
        "## Day 8: LED with unknown seg map"
      ]
    },
    {
      "cell_type": "markdown",
      "metadata": {
        "id": "VU2O53K0tXyG"
      },
      "source": [
        "- Part 1: In the output values, how many times do digits 1, 4, 7, or 8 appear?\n",
        "\n",
        "- Part 2: What do you get if you add up all of the output values?"
      ]
    },
    {
      "cell_type": "code",
      "metadata": {
        "id": "Isq0qogetXyH",
        "colab": {
          "base_uri": "https://localhost:8080/"
        },
        "outputId": "05020eea-2a43-4c07-abf5-b134e6358f2e"
      },
      "source": [
        "puzzle = advent.puzzle(day=8)"
      ],
      "execution_count": 39,
      "outputs": [
        {
          "output_type": "stream",
          "name": "stdout",
          "text": [
            "For day 8, puzzle.input has 200 lines:\n",
            "cgaed gcdbfa gcfaed gfcde gadfceb cdbfeg acg eacf eabgd ca | agc efcgbd cag eacf\n",
            "ga ega edgfa cafed gabd cefagdb begfad ebdgf fcbega cbgdfe | bgdef fdgeb dgabfe gea\n",
            "ged eg acfgd fdceb cdbefa dgcfe cebfdg edcbga egbf ceadfbg | dfcge dacegbf gcdbaef fdceg\n",
            "cbefg fedbcg bfdg abgedc fgced edcagf caefb gb fedcbga beg | bdfg cbeaf cfdebg gbe\n",
            "gecdab gbafd geabdcf ecfa dbcfge cfb afgbc efgbac cf cgbae | fbc fbc cfebgad cf\n",
            "cbdef febdga fba ba fadecb cgfea adbc cbafe fbedcag egcfbd | dfgbae fdcageb adcefbg efbdc\n",
            "gecdba ecafbg ecabg bgacfd gecaf feba aedbfgc fca gdfec af | fac af cfa eafbgc\n",
            "geab adgfc gacef acgefdb gecfba eg dbfgec beacf afedbc ecg | baeg fgadc fagbce edfgbca\n",
            " ...\n",
            "df abfce degbc cfd acgfed gbdf bacfegd efdcb badceg egfcbd | cebgd bgdf bceaf df\n",
            "bfdc eabdf ebcad fgead bcdeag fba bf bcedgfa cdebfa bcegaf | defba cfbd bdcf fabceg\n",
            "dbaefcg ec aec dfgbea cafeg aedcbg gacedf egadf gfcba cfde | eac efcd ec egcfda\n",
            "ecgfdab gcefb bcfa af cgfdbe aegbf ebadg eacgfd gbecaf afg | aedbg bafc acfb dgfbace\n",
            "And the stored answers are: {1: '548', 2: '1074888'}\n"
          ]
        }
      ]
    },
    {
      "cell_type": "code",
      "metadata": {
        "id": "cUytxpZFtXyH"
      },
      "source": [
        "s1 = \"\"\"\n",
        "be cfbegad cbdgef fgaecd cgeb fdcge agebfd fecdb fabcd edb | fdgacbe cefdb cefbgd gcbe\n",
        "edbfga begcd cbg gc gcadebf fbgde acbgfd abcde gfcbed gfec | fcgedb cgb dgebacf gc\n",
        "fgaebd cg bdaec gdafb agbcfd gdcbef bgcad gfac gcb cdgabef | cg cg fdcagb cbg\n",
        "fbegcd cbd adcefb dageb afcb bc aefdc ecdab fgdeca fcdbega | efabcd cedba gadfec cb\n",
        "aecbfdg fbg gf bafeg dbefa fcge gcbea fcaegb dgceab fcbdga | gecf egdcabf bgf bfgea\n",
        "fgeab ca afcebg bdacfeg cfaedg gcfdb baec bfadeg bafgc acf | gebdcfa ecba ca fadegcb\n",
        "dbcfg fgd bdegcaf fgec aegbdf ecdfab fbedc dacgb gdcebf gf | cefg dcbef fcge gbcadfe\n",
        "bdfegc cbegaf gecbf dfcage bdacg ed bedf ced adcbefg gebcd | ed bcgafe cdgba cbgef\n",
        "egadfb cdbfeg cegd fecab cgb gbdefca cg fgcdab egfdb bfceg | gbdfcae bgc cg cgb\n",
        "gcafb gcf dcaebfg ecagb gf abcdeg gaef cafbge fdbac fegbdc | fgae cfgab fg bagce\n",
        "\"\"\""
      ],
      "execution_count": 40,
      "outputs": []
    },
    {
      "cell_type": "code",
      "metadata": {
        "colab": {
          "base_uri": "https://localhost:8080/"
        },
        "id": "8JM-sedQzdvS",
        "outputId": "a1dc29f2-3f44-408f-af81-b30f1ee946a8"
      },
      "source": [
        "print(len(list(itertools.permutations('abcdefg'))))"
      ],
      "execution_count": 41,
      "outputs": [
        {
          "output_type": "stream",
          "name": "stdout",
          "text": [
            "5040\n"
          ]
        }
      ]
    },
    {
      "cell_type": "code",
      "metadata": {
        "id": "eUdwU8jjtXyH",
        "colab": {
          "base_uri": "https://localhost:8080/"
        },
        "outputId": "e909d981-70e3-407f-eae5-07c720b26c68"
      },
      "source": [
        "def process1(s):\n",
        "  total = 0\n",
        "  for line in s.strip('\\n').split('\\n'):\n",
        "    _, outputs = map(str.split, line.split(' | '))\n",
        "    total += sum(len(output) in [2, 3, 4, 7] for output in outputs)\n",
        "  return total\n",
        "\n",
        "def process1(s):\n",
        "  return sum(len(output) in [2, 3, 4, 7] for line in s.strip('\\n').split('\\n')\n",
        "             for output in line.split(' | ')[1].split())\n",
        "\n",
        "check_eq(process1(s1), 26)\n",
        "puzzle.verify(1, process1)"
      ],
      "execution_count": 42,
      "outputs": [
        {
          "output_type": "stream",
          "name": "stdout",
          "text": [
            "(Part 1: 0.001 s)\n"
          ]
        }
      ]
    },
    {
      "cell_type": "code",
      "metadata": {
        "colab": {
          "base_uri": "https://localhost:8080/"
        },
        "id": "Q8RNtIIhrCRy",
        "outputId": "8da4f980-86ab-4cae-d182-31ef60332de8"
      },
      "source": [
        "def process2(s):  # Most compact.\n",
        "  lookup = {'abcefg': '0', 'cf': '1', 'acdeg': '2', 'acdfg': '3',\n",
        "            'bcdf': '4', 'abdfg': '5', 'abdefg': '6', 'acf': '7',\n",
        "            'abcdefg': '8', 'abcdfg': '9'}\n",
        "  total = 0\n",
        "\n",
        "  for line in s.strip('\\n').split('\\n'):\n",
        "    inputs, outputs = map(str.split, line.split(' | '))\n",
        "    for permutation in itertools.permutations('abcdefg'):\n",
        "      translation = str.maketrans('abcdefg', ''.join(permutation))\n",
        "      \n",
        "      def get_digit(segs):\n",
        "        return lookup.get(''.join(sorted(segs.translate(translation))), None)\n",
        "\n",
        "      if all(get_digit(input) for input in inputs):\n",
        "        total += int(''.join(get_digit(output) for output in outputs))\n",
        "        break\n",
        "    else:\n",
        "      raise ValueError(f'Line \"{line}\" has no consistent mapping.')\n",
        "  \n",
        "  return total\n",
        "\n",
        "check_eq(process2(s1), 61229)\n",
        "puzzle.verify(2, process2)  # 1.45 s"
      ],
      "execution_count": 43,
      "outputs": [
        {
          "output_type": "stream",
          "name": "stdout",
          "text": [
            "(Part 2: 1.485 s)\n"
          ]
        }
      ]
    },
    {
      "cell_type": "code",
      "metadata": {
        "colab": {
          "base_uri": "https://localhost:8080/"
        },
        "id": "yRNAsiMyoE7R",
        "outputId": "7259aa45-5f16-4a36-9f3d-814ca4ddd769"
      },
      "source": [
        "def process2(s):  # Faster.\n",
        "  lookup = {frozenset(k): str(v) for k, v in\n",
        "      {'abcefg': 0, 'cf': 1, 'acdeg': 2, 'acdfg': 3, 'bcdf': 4,\n",
        "       'abdfg': 5, 'abdefg': 6, 'acf': 7, 'abcdefg': 8, 'abcdfg': 9}.items()}\n",
        "  total = 0\n",
        "\n",
        "  @functools.lru_cache(maxsize=None)   # (@functools.cache in Python 3.9)\n",
        "  def digit_mapper(permutation):\n",
        "    translation = str.maketrans('abcdefg', ''.join(permutation))\n",
        "    return lambda segs: lookup.get(frozenset(segs.translate(translation)), None)\n",
        "\n",
        "  for line in s.strip('\\n').split('\\n'):\n",
        "    inputs, outputs = map(str.split, line.split(' | '))\n",
        "    inputs.sort(key=len)  # Optional, for speedup.\n",
        "    for permutation in itertools.permutations('abcdefg'):\n",
        "      get_digit = digit_mapper(permutation)\n",
        "      if all(get_digit(input) for input in inputs):\n",
        "        total += int(''.join(get_digit(output) for output in outputs))\n",
        "        break\n",
        "    else:\n",
        "      raise ValueError(f'Line \"{line}\" has no consistent mapping.')\n",
        "  \n",
        "  return total\n",
        "\n",
        "check_eq(process2(s1), 61229)\n",
        "puzzle.verify(2, process2)  # 0.83 s"
      ],
      "execution_count": 44,
      "outputs": [
        {
          "output_type": "stream",
          "name": "stdout",
          "text": [
            "(Part 2: 0.814 s)\n"
          ]
        }
      ]
    },
    {
      "cell_type": "code",
      "metadata": {
        "colab": {
          "base_uri": "https://localhost:8080/"
        },
        "id": "FDTQSGlyKpFo",
        "outputId": "6c00444e-bd19-4187-d33c-f7c147e2b018"
      },
      "source": [
        "def process2(s):  # Faster.\n",
        "  lookup = {'abcefg': 0, 'cf': 1, 'acdeg': 2, 'acdfg': 3, 'bcdf': 4,\n",
        "            'abdfg': 5, 'abdefg': 6, 'acf': 7, 'abcdefg': 8, 'abcdfg': 9}\n",
        "  lines = s.strip('\\n').split('\\n')\n",
        "  ins, outs = zip(*[map(str.split, line.split(' | ')) for line in lines])\n",
        "  ins = [[frozenset(input) for input in inputs] for inputs in ins]\n",
        "  outs = list(outs)\n",
        "  total = 0\n",
        "\n",
        "  for permutation in itertools.permutations('abcdefg'):\n",
        "    translation = str.maketrans(''.join(permutation), 'abcdefg')\n",
        "    decode = {frozenset(k.translate(translation)): v for k, v in lookup.items()}\n",
        "    for i in reversed(range(len(ins))):\n",
        "      if all(input in decode for input in ins[i]):\n",
        "        total += int(''.join(str(decode[frozenset(output)])\n",
        "                             for output in outs[i]))\n",
        "        ins.pop(i), outs.pop(i)\n",
        "\n",
        "  assert not ins\n",
        "  return total\n",
        "\n",
        "check_eq(process2(s1), 61229)\n",
        "puzzle.verify(2, process2)  # 0.38 s"
      ],
      "execution_count": 45,
      "outputs": [
        {
          "output_type": "stream",
          "name": "stdout",
          "text": [
            "(Part 2: 0.391 s)\n"
          ]
        }
      ]
    },
    {
      "cell_type": "code",
      "metadata": {
        "colab": {
          "base_uri": "https://localhost:8080/"
        },
        "id": "kdbXBVODqc5c",
        "outputId": "7320e3d9-1df2-4cb3-cb4e-a46f692fefc2"
      },
      "source": [
        "def process2(s):  # Faster.\n",
        "  lookup = {'abcefg': 0, 'cf': 1, 'acdeg': 2, 'acdfg': 3, 'bcdf': 4,\n",
        "            'abdfg': 5, 'abdefg': 6, 'acf': 7, 'abcdefg': 8, 'abcdfg': 9}\n",
        "  valids = {''.join(permutation): set(frozenset(k.translate(\n",
        "              str.maketrans('abcdefg', ''.join(permutation)))) for k in lookup)\n",
        "            for permutation in itertools.permutations('abcdefg')}\n",
        "  total = 0\n",
        "\n",
        "  for line in s.strip('\\n').split('\\n'):\n",
        "    inputs, outputs = map(str.split, line.split(' | '))\n",
        "    inputs = frozenset(frozenset(input) for input in inputs)\n",
        "    for permutation, valid in valids.items():\n",
        "      if inputs == valid:\n",
        "        translation = str.maketrans('abcdefg', permutation)\n",
        "        decode = {frozenset(k.translate(translation)): str(v)\n",
        "                  for k, v in lookup.items()}\n",
        "        total += int(''.join(decode[frozenset(output)] for output in outputs))\n",
        "        break\n",
        "    else:\n",
        "      raise ValueError(f'Line \"{line}\" has no consistent mapping.')\n",
        "  \n",
        "  return total\n",
        "\n",
        "check_eq(process2(s1), 61229)\n",
        "puzzle.verify(2, process2)  # 0.24 s"
      ],
      "execution_count": 46,
      "outputs": [
        {
          "output_type": "stream",
          "name": "stdout",
          "text": [
            "(Part 2: 0.445 s)\n"
          ]
        }
      ]
    },
    {
      "cell_type": "code",
      "metadata": {
        "colab": {
          "base_uri": "https://localhost:8080/"
        },
        "id": "uYcvfUPbORJn",
        "outputId": "36fcb12a-8a90-460a-fb96-4cc7fc56ac80"
      },
      "source": [
        "def process2(s):  # Faster.\n",
        "  lookup = {'abcefg': 0, 'cf': 1, 'acdeg': 2, 'acdfg': 3, 'bcdf': 4,\n",
        "            'abdfg': 5, 'abdefg': 6, 'acf': 7, 'abcdefg': 8, 'abcdfg': 9}\n",
        "  lines = {(frozenset(frozenset(input) for input in inputs),\n",
        "            tuple(frozenset(output) for output in outputs))\n",
        "           for line in s.strip('\\n').split('\\n')\n",
        "           for inputs, outputs in [map(str.split, line.split(' | '))]}\n",
        "  total = 0\n",
        "\n",
        "  for permutation in itertools.permutations('abcdefg'):\n",
        "    translation = str.maketrans(''.join(permutation), 'abcdefg')\n",
        "    valid = frozenset(frozenset(k.translate(translation)) for k in lookup)\n",
        "    decode = {frozenset(k.translate(translation)): v for k, v in lookup.items()}\n",
        "    processed_lines = set()\n",
        "    for line in lines:\n",
        "      inputs, outputs = line\n",
        "      if inputs == valid:\n",
        "        total += int(''.join(str(decode[output]) for output in outputs))\n",
        "        processed_lines.add(line)\n",
        "    lines -= processed_lines\n",
        "\n",
        "  assert not lines\n",
        "  return total\n",
        "\n",
        "check_eq(process2(s1), 61229)\n",
        "puzzle.verify(2, process2)  # 0.16 s"
      ],
      "execution_count": 47,
      "outputs": [
        {
          "output_type": "stream",
          "name": "stdout",
          "text": [
            "(Part 2: 0.207 s)\n"
          ]
        }
      ]
    },
    {
      "cell_type": "code",
      "metadata": {
        "colab": {
          "base_uri": "https://localhost:8080/"
        },
        "id": "zuPuNWhQi2rm",
        "outputId": "64c1f11f-a119-4651-9fac-19866a65b260"
      },
      "source": [
        "def process2(s):  # Custom solution for 8-seg LED; fastest.\n",
        "  total = 0\n",
        "  segs_from_digit = {}  # digit 0..9 -> frozenset of segments.\n",
        "  rules = [  # [digit, len(segs), predicate(segs)].\n",
        "      [1, 2, lambda e: True],\n",
        "      [7, 3, lambda e: True],\n",
        "      [4, 4, lambda e: True],\n",
        "      [8, 7, lambda e: True],\n",
        "      [3, 5, lambda e: e > segs_from_digit[1]],\n",
        "      [6, 6, lambda e: not e > segs_from_digit[1]],\n",
        "      [9, 6, lambda e: e > segs_from_digit[3]],\n",
        "      [0, 6, lambda e: True],\n",
        "      [2, 5, lambda e: not e < segs_from_digit[9]],\n",
        "      [5, 5, lambda e: True],\n",
        "  ]\n",
        "\n",
        "  for line in s.strip('\\n').split('\\n'):\n",
        "    inputs, outputs = map(str.split, line.split(' | '))\n",
        "    inputs = set(frozenset(input) for input in inputs)\n",
        "    segs_from_digit.clear()\n",
        "    for digit, length, predicate in rules:\n",
        "      segs, = (e for e in inputs if len(e) == length and predicate(e))\n",
        "      segs_from_digit[digit] = segs\n",
        "      inputs.remove(segs)\n",
        "    digit_from_segs = {segs: digit for digit, segs in segs_from_digit.items()}\n",
        "    total += int(''.join(\n",
        "        str(digit_from_segs[frozenset(output)]) for output in outputs))\n",
        "\n",
        "  return total\n",
        "\n",
        "check_eq(process2(s1), 61229)\n",
        "puzzle.verify(2, process2)  # 0.01 s"
      ],
      "execution_count": 48,
      "outputs": [
        {
          "output_type": "stream",
          "name": "stdout",
          "text": [
            "(Part 2: 0.007 s)\n"
          ]
        }
      ]
    },
    {
      "cell_type": "markdown",
      "metadata": {
        "id": "G6Tx3d9ZtX3o"
      },
      "source": [
        "<a name=\"day9\"></a>\n",
        "## Day 9: Heightmap basins"
      ]
    },
    {
      "cell_type": "markdown",
      "metadata": {
        "id": "kg0cveZ5tX3o"
      },
      "source": [
        "- Part 1: What is the sum of the risk levels of all low points on your heightmap?\n",
        "\n",
        "- Part 2: What do you get if you multiply together the sizes of the three largest basins?"
      ]
    },
    {
      "cell_type": "code",
      "metadata": {
        "id": "boN1Anu6tX3o",
        "colab": {
          "base_uri": "https://localhost:8080/"
        },
        "outputId": "8805f51e-e957-4e38-87ce-fd63cdc4e631"
      },
      "source": [
        "puzzle = advent.puzzle(day=9)"
      ],
      "execution_count": 49,
      "outputs": [
        {
          "output_type": "stream",
          "name": "stdout",
          "text": [
            "For day 9, puzzle.input has 100 lines:\n",
            "5456789349886456890123985435578996543213456789656899996467789234989765442345789778999989652349879899\n",
            "4349891298765348789339875323456789665434568996545698874356679959879898321457893569998879931998765668\n",
            "1298910989873234595498764312345678976746899989656987563234567899767987442578954678987968899897654457\n",
            "2987939875432123489999953201234599698657979979997965432023479998959876553689965789876856789789543345\n",
            "9896899984321012668899865313546789569798965469879876553135568987643988767997896898765945697698722256\n",
            "8765789965442143456789996579658895434999876398767987864589679876542099898966789999833123598589810123\n",
            "9954629876553234667899987988767932129899989219755398878678989987943989959355678998921057987678924345\n",
            "6543212989654345788999898999998941098789998998543229989789797999899876543134989997632345698789545456\n",
            " ...\n",
            "2324579569889834578965789998976899876679876544567892346899986545992198765767893345997569987654568999\n",
            "1012459698779323569954678967997987764589997432378965467999987956893987654556789457896456999765678967\n",
            "2123468987656313467893212356789996543678986543567899578998898768954998643544579968998345899976899456\n",
            "3654567896543202348932104567899987654569999864568998679997649879869876542123567899765456789987893237\n",
            "And the stored answers are: {1: '506', 2: '931200'}\n"
          ]
        }
      ]
    },
    {
      "cell_type": "code",
      "metadata": {
        "id": "7jPkGQR8tX3o"
      },
      "source": [
        "s1 = \"\"\"\n",
        "2199943210\n",
        "3987894921\n",
        "9856789892\n",
        "8767896789\n",
        "9899965678\n",
        "\"\"\""
      ],
      "execution_count": 50,
      "outputs": []
    },
    {
      "cell_type": "code",
      "metadata": {
        "id": "WCIAOJT_xSAB"
      },
      "source": [
        "class UnionFind:\n",
        "  \"\"\"Union-find is an efficient technique for tracking equivalence classes as\n",
        "  pairs of elements are incrementally unified into the same class.\n",
        "  The implementation uses path compression but without weight-balancing, so the\n",
        "  worst case time complexity is O(nlogn), but the average case is O(n).\n",
        "  \"\"\"\n",
        "\n",
        "  def __init__(self):\n",
        "    self._rep = {}\n",
        "\n",
        "  def unify(self, a: Any, b: Any) -> None:\n",
        "    \"\"\"Merge the equivalence classes of elements a and b.\"\"\"\n",
        "    rep_a, rep_b = self.get_rep(a), self.get_rep(b)\n",
        "    self._rep[rep_b] = rep_a\n",
        "\n",
        "  def same(self, a: Any, b: Any) -> bool:\n",
        "    \"\"\"Returns whether a and b are in the same equivalence class.\"\"\"\n",
        "    return self._rep.get(a, a) == self._rep.get(b, b)\n",
        "\n",
        "  def get_rep(self, a: Any) -> Any:\n",
        "    \"\"\"Returns a representative for the class of a; valid until next unify().\"\"\"\n",
        "    if a not in self._rep:\n",
        "      return a\n",
        "    parents = []\n",
        "    while True:\n",
        "      parent = self._rep.setdefault(a, a)\n",
        "      if parent == a:\n",
        "        break\n",
        "      parents.append(a)\n",
        "      a = parent\n",
        "    for p in parents:\n",
        "      self._rep[p] = a\n",
        "    return a"
      ],
      "execution_count": 51,
      "outputs": []
    },
    {
      "cell_type": "code",
      "metadata": {
        "id": "GHUvienbtX3o",
        "colab": {
          "base_uri": "https://localhost:8080/"
        },
        "outputId": "e5929121-2c13-4106-cbe1-1d4cc196c4a7"
      },
      "source": [
        "def process1(s, part2=False):  # Solution using Union-Find.  Slower.\n",
        "  grid = hh.grid_from_string(s).astype(int)\n",
        "  dyxs = np.array([(0, -1), (0, 1), (-1, 0), (1, 0)])\n",
        "  t = np.pad(grid, 1, constant_values=10)\n",
        "  neighbors = np.array([np.roll(t, -dyx, (0, 1))[1:-1, 1:-1] for dyx in dyxs])\n",
        "  low_point = (grid[None] < neighbors).all(axis=0)\n",
        "  \n",
        "  if not part2:\n",
        "    return (grid[low_point] + 1).sum()\n",
        "\n",
        "  downward = dyxs[neighbors.argmin(axis=0)]\n",
        "  downward[grid == 9] = 0\n",
        "\n",
        "  union_find = UnionFind()\n",
        "  for yx in np.ndindex(grid.shape):\n",
        "    union_find.unify(yx, tuple(yx + downward[yx]))\n",
        "\n",
        "  rep = np.array([[union_find.get_rep((y, x)) for x in range(grid.shape[1])]\n",
        "                  for y in range(grid.shape[0])])\n",
        "\n",
        "  _, count = np.unique(rep.reshape(-1, 2), axis=0, return_counts=True)\n",
        "  return np.prod(sorted(count)[-3:])\n",
        "\n",
        "\n",
        "check_eq(process1(s1), 15)\n",
        "puzzle.verify(1, process1)\n",
        "\n",
        "process2 = functools.partial(process1, part2=True)\n",
        "check_eq(process2(s1), 1134)\n",
        "puzzle.verify(2, process2)"
      ],
      "execution_count": 52,
      "outputs": [
        {
          "output_type": "stream",
          "name": "stdout",
          "text": [
            "(Part 1: 0.007 s)\n",
            "(Part 2: 0.123 s)\n"
          ]
        }
      ]
    },
    {
      "cell_type": "code",
      "metadata": {
        "colab": {
          "base_uri": "https://localhost:8080/"
        },
        "id": "YHHI8ZKvYcaV",
        "outputId": "1e0487d9-3bcd-4fa0-c092-726c457d463d"
      },
      "source": [
        "def process1(s, part2=False, visualize=False):  # Faster using numpy.\n",
        "  grid = np.array([list(line) for line in s.strip().split('\\n')]).astype(int)\n",
        "  dyxs = np.concatenate([[v, -v] for v in np.eye(grid.ndim, dtype=int)])\n",
        "  t = np.pad(grid, 1, constant_values=10)\n",
        "  neighbors = np.array([np.roll(t, -dyx, (0, 1))[1:-1, 1:-1] for dyx in dyxs])\n",
        "  low_point = (grid < neighbors).all(axis=0)\n",
        "\n",
        "  if not part2:\n",
        "    return (grid[low_point] + 1).sum()\n",
        "\n",
        "  downward = dyxs[neighbors.argmin(axis=0)]\n",
        "  downward[grid == 9] = downward[low_point] = 0\n",
        "  \n",
        "  yx = np.array(np.indices(grid.shape))\n",
        "  for _ in range(8):\n",
        "    yx += np.moveaxis(downward[tuple(yx)], -1, 0)\n",
        "\n",
        "  _, count = np.unique(yx.reshape(2, -1), axis=1, return_counts=True)\n",
        "\n",
        "  if visualize:\n",
        "    np.random.seed(0)\n",
        "    _, inverse = np.unique(yx.reshape(2, -1), axis=1, return_inverse=True)\n",
        "    cmap = np.uint8(np.random.choice(range(30, 150), (len(count), 3)))\n",
        "    cmap[count == 1] = 0\n",
        "    cmap[count >= heapq.nlargest(3, count)[-1]] += 100  # 2 are tied for third!\n",
        "    basin = cmap[inverse.reshape(grid.shape)]\n",
        "    basin[low_point] = 255\n",
        "    images = {'Heightmap': grid.astype(float), 'Basins': basin}\n",
        "    media.show_images(images, height=grid.shape[0] * 3)\n",
        "\n",
        "  return np.prod(heapq.nlargest(3, count))\n",
        "\n",
        "\n",
        "check_eq(process1(s1), 15)\n",
        "puzzle.verify(1, process1)\n",
        "\n",
        "process2 = functools.partial(process1, part2=True)\n",
        "check_eq(process2(s1), 1134)\n",
        "puzzle.verify(2, process2)"
      ],
      "execution_count": 53,
      "outputs": [
        {
          "output_type": "stream",
          "name": "stdout",
          "text": [
            "(Part 1: 0.005 s)\n",
            "(Part 2: 0.022 s)\n"
          ]
        }
      ]
    },
    {
      "cell_type": "code",
      "metadata": {
        "colab": {
          "base_uri": "https://localhost:8080/",
          "height": 376
        },
        "id": "H8KYnfJvIyWs",
        "outputId": "c8114e21-fc39-4643-ef6f-b635e586c872"
      },
      "source": [
        "def process1(s, part2=False, visualize=False):  # Faster, using flat indexing.\n",
        "  grid = np.array([[int(c) for c in line] for line in s.strip().split('\\n')])\n",
        "  dyxs = np.concatenate([[v, -v] for v in np.eye(grid.ndim, dtype=int)])\n",
        "  t = np.pad(grid, 1, constant_values=10)\n",
        "  neighbors = np.array([np.roll(t, -dyx, (0, 1))[1:-1, 1:-1] for dyx in dyxs])\n",
        "  low_point = (grid < neighbors).all(axis=0)\n",
        "\n",
        "  if not part2:\n",
        "    return (grid[low_point] + 1).sum()\n",
        "\n",
        "  downward = dyxs[neighbors.argmin(axis=0)]\n",
        "  downward[grid == 9] = downward[low_point] = 0\n",
        "  downward = downward.dot(np.cumprod([1, *grid.shape[-1:0:-1]])[::-1]).ravel()\n",
        "\n",
        "  indices = functools.reduce(lambda indices, _: indices + downward[indices],\n",
        "                             range(8), np.arange(grid.size))\n",
        "  _, count = np.unique(indices, return_counts=True)\n",
        "\n",
        "  if visualize:\n",
        "    np.random.seed(0)\n",
        "    _, inverse = np.unique(indices, return_inverse=True)\n",
        "    cmap = np.uint8(np.random.choice(range(30, 150), (len(count), 3)))\n",
        "    cmap[count == 1] = 0\n",
        "    cmap[count >= heapq.nlargest(3, count)[-1]] += 100  # 2 are tied for third!\n",
        "    basin = cmap[inverse.reshape(grid.shape)]\n",
        "    basin[low_point] = 255\n",
        "    images = {'Heightmap': grid.astype(float), 'Basins': basin}\n",
        "    media.show_images(images, height=grid.shape[0] * 3)\n",
        "\n",
        "  return np.prod(heapq.nlargest(3, count))\n",
        "\n",
        "\n",
        "check_eq(process1(s1), 15)\n",
        "puzzle.verify(1, process1)\n",
        "\n",
        "process2 = functools.partial(process1, part2=True)\n",
        "check_eq(process2(s1), 1134)\n",
        "puzzle.verify(2, process2)\n",
        "\n",
        "_ = process2(puzzle.input, visualize=True)"
      ],
      "execution_count": 54,
      "outputs": [
        {
          "output_type": "stream",
          "name": "stdout",
          "text": [
            "(Part 1: 0.003 s)\n",
            "(Part 2: 0.008 s)\n"
          ]
        },
        {
          "output_type": "display_data",
          "data": {
            "text/html": [
              "<table class=\"show_images\" style=\"border-spacing:0px;\"><tr><td style=\"padding:1px;\"><div style=\"display:flex; align-items:left;\">\n",
              "      <div style=\"display:flex; flex-direction:column; align-items:center;\">\n",
              "      <div>Heightmap</div><div><img width=\"300\" height=\"300\" style=\"image-rendering:pixelated; object-fit:cover;\" src=\"data:image/png;base64,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\"/></div></div></div></td><td style=\"padding:1px;\"><div style=\"display:flex; align-items:left;\">\n",
              "      <div style=\"display:flex; flex-direction:column; align-items:center;\">\n",
              "      <div>Basins</div><div><img width=\"300\" height=\"300\" style=\"image-rendering:pixelated; object-fit:cover;\" src=\"data:image/png;base64,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\"/></div></div></div></td></tr></table>"
            ],
            "text/plain": [
              "<IPython.core.display.HTML object>"
            ]
          },
          "metadata": {}
        }
      ]
    },
    {
      "cell_type": "markdown",
      "metadata": {
        "id": "CEFquaKJtX6g"
      },
      "source": [
        "<a name=\"day10\"></a>\n",
        "## Day 10: Parsing parentheses"
      ]
    },
    {
      "cell_type": "markdown",
      "metadata": {
        "id": "OCuI_CWjtX6g"
      },
      "source": [
        "- Part 1: What is the total syntax error score for those errors?\n",
        "\n",
        "- Part 2: For all incomplete inputs, compute an auto-complete score.  What is the middle score?"
      ]
    },
    {
      "cell_type": "code",
      "metadata": {
        "id": "u1JNWxw_tX6h",
        "colab": {
          "base_uri": "https://localhost:8080/"
        },
        "outputId": "ea3d4adc-f890-44a3-cdff-0b6d945f07bf"
      },
      "source": [
        "puzzle = advent.puzzle(day=10)"
      ],
      "execution_count": 55,
      "outputs": [
        {
          "output_type": "stream",
          "name": "stdout",
          "text": [
            "For day 10, puzzle.input has 90 lines:\n",
            "(((<(([{{((<[[<><>]<()[]>]{[{}()]<(){}>}>[<([]{})>])(<<(<><>>[<><>]>(<{}()><(){}>)>[(([])<[]()>)])){<((<{}()\n",
            "{(({({<[[[{[{({}{})[[]{}]}[{(){}}((){})]][{((){}){[]{}}}<(()())<<><>>>]}]]]{([<{<<()()>([][])>({[]()}[{}<\n",
            "[[{<(([<<{(<[[()()]]{[[]()]<{}>}><{{{}()}<<>[]>><(())[()[]]>>)([{[[][]][()()]}{{()()}}](<{{}()}>))}[([{<<\n",
            "{<[{<{[({[[[[{<>{}}<{}()>]<{<><>}{[][]}>](<<<>[]>[()()]>[{[]{}>[<>()]])]{{{[()()][<><>]}<[{}()][{}{}]\n",
            "(<[{[{[((<{[[<()()><{}{}>][(<>{}){{}{}}]]{<[<><>]>{{{}[]}(<>[])}}}(<[[[]{}](<>{})]{[[][]][[][]]}>)>)){<{\n",
            "<<<(<(<[[[<[{{[]<>}([]())}([[]])]([[[]<>][()()]]{<()()>([]{})])>]{[[<{[]{}}([]{})>{(<>[]){{}{}}}]]{({{<>[]\n",
            "[{<(({(<{<{<<{<><>}>({<><>}<<><>>)}{[{[]<>}[[][]]][<()<>>]}}<[[[()()]{<><>}]((<>)[{}()])]{<{()<>}\n",
            "<[([{{{({<({(<(){}><[]()>)((()())[[]()})})[<{<<>>((){})}<[<><>]{(){}}>>{{(<>[])({}[])}(<()<>>)}]>})}({{({\n",
            " ...\n",
            "([{[{<<<[{{({[{}()]}<<<>[]>{<>[]}>)((([]<>))([<>{}]))}{{[([]{})<(){}>}((()[])<[]()>)}({[(){}\n",
            "[({[<[[[(((<<[[]]<[]<>>>>{{([]<>){()[]}}})(({(<><>)({}())})<({{}[]}{[]()})[{()<>}([][])]>)\n",
            "<[[{[[{{[[[<<{()[]}<[][]>>{<<><>>[{}]}>{[<{}<>><[]<>>](((){}))}]{{<((){}){<>{}}>{(<>())[<>[]]}}<<{{}()}((\n",
            "(<[{(<<([[([[<{}{}>[<>[]]]][[{{}()}]<[<>()][()<>]>])<{[(<>{})(()[])]{[{}()][<>()]}}<((<>[]){<>()})(<()\n",
            "And the stored answers are: {1: '323613', 2: '3103006161'}\n"
          ]
        }
      ]
    },
    {
      "cell_type": "code",
      "metadata": {
        "id": "xF8eyHkStX6h"
      },
      "source": [
        "s1 = \"\"\"\n",
        "[({(<(())[]>[[{[]{<()<>>\n",
        "[(()[<>])]({[<{<<[]>>(\n",
        "{([(<{}[<>[]}>{[]{[(<()>\n",
        "(((({<>}<{<{<>}{[]{[]{}\n",
        "[[<[([]))<([[{}[[()]]]\n",
        "[{[{({}]{}}([{[{{{}}([]\n",
        "{<[[]]>}<{[{[{[]{()[[[]\n",
        "[<(<(<(<{}))><([]([]()\n",
        "<{([([[(<>()){}]>(<<{{\n",
        "<{([{{}}[<[[[<>{}]]]>[]]\n",
        "\"\"\""
      ],
      "execution_count": 56,
      "outputs": []
    },
    {
      "cell_type": "code",
      "metadata": {
        "id": "7FtS_Uu7tX6h",
        "colab": {
          "base_uri": "https://localhost:8080/"
        },
        "outputId": "a02f0e86-d252-4f82-a2f4-9fd9449ddfe5"
      },
      "source": [
        "def process1(s):\n",
        "  open_from_close = {')': '(', ']': '[', '}': '{', '>': '<'}\n",
        "  total = 0\n",
        "  for line in s.strip('\\n').split('\\n'):\n",
        "    stack = []\n",
        "    for i in range(len(line)):\n",
        "      if line[i] in '([{<':\n",
        "        stack.append(line[i])\n",
        "      elif stack.pop() != open_from_close[line[i]]:\n",
        "        total += {')': 3, ']': 57, '}': 1197, '>': 25137, '': 0}[line[i]]\n",
        "\n",
        "  return total\n",
        "\n",
        "check_eq(process1(s1), 26397)\n",
        "puzzle.verify(1, process1)"
      ],
      "execution_count": 57,
      "outputs": [
        {
          "output_type": "stream",
          "name": "stdout",
          "text": [
            "(Part 1: 0.004 s)\n"
          ]
        }
      ]
    },
    {
      "cell_type": "code",
      "metadata": {
        "colab": {
          "base_uri": "https://localhost:8080/"
        },
        "id": "XogbVUjFvf28",
        "outputId": "514bba73-dd37-49dc-d6a1-5892b71a0024"
      },
      "source": [
        "def process2(s):\n",
        "  open_from_close = {')': '(', ']': '[', '}': '{', '>': '<'}\n",
        "  scores = []\n",
        "  for line in s.strip('\\n').split('\\n'):\n",
        "    stack = []\n",
        "    for i in range(len(line)):\n",
        "      if line[i] in '([{<':\n",
        "        stack.append(line[i])\n",
        "      elif stack.pop() != open_from_close[line[i]]:\n",
        "        break\n",
        "    else:\n",
        "      score = 0\n",
        "      while stack:\n",
        "        score = score * 5 + {'(': 1, '[': 2, '{': 3, '<': 4}[stack.pop()]\n",
        "      scores.append(score)\n",
        "      continue\n",
        "\n",
        "  return int(np.median(scores))\n",
        "\n",
        "check_eq(process2(s1), 288957)\n",
        "puzzle.verify(2, process2)"
      ],
      "execution_count": 58,
      "outputs": [
        {
          "output_type": "stream",
          "name": "stdout",
          "text": [
            "(Part 2: 0.002 s)\n"
          ]
        }
      ]
    },
    {
      "cell_type": "markdown",
      "metadata": {
        "id": "8cOVdnbMtX9Y"
      },
      "source": [
        "<a name=\"day11\"></a>\n",
        "## Day 11: "
      ]
    },
    {
      "cell_type": "markdown",
      "metadata": {
        "id": "xbBq7mTztX9Z"
      },
      "source": [
        "- Part 1: ?\n",
        "\n",
        "- Part 2: ?"
      ]
    },
    {
      "cell_type": "code",
      "metadata": {
        "id": "YKRaI_iUtX9Z"
      },
      "source": [
        "# puzzle = advent.puzzle(day=11)"
      ],
      "execution_count": 59,
      "outputs": []
    },
    {
      "cell_type": "code",
      "metadata": {
        "id": "49KzLnnKtX9Z"
      },
      "source": [
        "s1 = \"\"\"\n",
        "\"\"\""
      ],
      "execution_count": 60,
      "outputs": []
    },
    {
      "cell_type": "code",
      "metadata": {
        "id": "rpL3SKUutX9Z"
      },
      "source": [
        "def process1(s, part2=False):\n",
        "  lines = s.strip('\\n').split('\\n')\n",
        "  for line in lines:\n",
        "    pass\n",
        "\n",
        "  return None\n",
        "\n",
        "# check_eq(process1(s1), 17)\n",
        "# puzzle.verify(1, process1)"
      ],
      "execution_count": 61,
      "outputs": []
    },
    {
      "cell_type": "code",
      "metadata": {
        "id": "Zq7lDDVItX9Z"
      },
      "source": [
        "process2 = functools.partial(process1, part2=True)\n",
        "# check_eq(process2(s1), 16)\n",
        "# puzzle.verify(2, process2)"
      ],
      "execution_count": 62,
      "outputs": []
    },
    {
      "cell_type": "markdown",
      "metadata": {
        "id": "1T0uvVBJtYAZ"
      },
      "source": [
        "<a name=\"day12\"></a>\n",
        "## Day 12: "
      ]
    },
    {
      "cell_type": "markdown",
      "metadata": {
        "id": "Gw2-gYAGtYAZ"
      },
      "source": [
        "- Part 1: ?\n",
        "\n",
        "- Part 2: ?"
      ]
    },
    {
      "cell_type": "code",
      "metadata": {
        "id": "62YuvvkHtYAZ"
      },
      "source": [
        "# puzzle = advent.puzzle(day=12)"
      ],
      "execution_count": 63,
      "outputs": []
    },
    {
      "cell_type": "code",
      "metadata": {
        "id": "fLAiyy_2tYAZ"
      },
      "source": [
        "s1 = \"\"\"\n",
        "\"\"\""
      ],
      "execution_count": 64,
      "outputs": []
    },
    {
      "cell_type": "code",
      "metadata": {
        "id": "9QFciPVAtYAZ"
      },
      "source": [
        "def process1(s, part2=False):\n",
        "  lines = s.strip('\\n').split('\\n')\n",
        "  for line in lines:\n",
        "    pass\n",
        "\n",
        "  return None\n",
        "\n",
        "# check_eq(process1(s1), 17)\n",
        "# puzzle.verify(1, process1)"
      ],
      "execution_count": 65,
      "outputs": []
    },
    {
      "cell_type": "code",
      "metadata": {
        "id": "VMdwo1aCtYAa"
      },
      "source": [
        "process2 = functools.partial(process1, part2=True)\n",
        "# check_eq(process2(s1), 16)\n",
        "# puzzle.verify(2, process2)"
      ],
      "execution_count": 66,
      "outputs": []
    },
    {
      "cell_type": "markdown",
      "metadata": {
        "id": "8pbMVX7utYDS"
      },
      "source": [
        "<a name=\"day13\"></a>\n",
        "## Day 13: "
      ]
    },
    {
      "cell_type": "markdown",
      "metadata": {
        "id": "uV5chBj_tYDS"
      },
      "source": [
        "- Part 1: ?\n",
        "\n",
        "- Part 2: ?"
      ]
    },
    {
      "cell_type": "code",
      "metadata": {
        "id": "7SAl01K4tYDS"
      },
      "source": [
        "# puzzle = advent.puzzle(day=13)"
      ],
      "execution_count": 67,
      "outputs": []
    },
    {
      "cell_type": "code",
      "metadata": {
        "id": "P69aM2lZtYDS"
      },
      "source": [
        "s1 = \"\"\"\n",
        "\"\"\""
      ],
      "execution_count": 68,
      "outputs": []
    },
    {
      "cell_type": "code",
      "metadata": {
        "id": "XvGhEoFatYDS"
      },
      "source": [
        "def process1(s, part2=False):\n",
        "  lines = s.strip('\\n').split('\\n')\n",
        "  for line in lines:\n",
        "    pass\n",
        "\n",
        "  return None\n",
        "\n",
        "# check_eq(process1(s1), 17)\n",
        "# puzzle.verify(1, process1)"
      ],
      "execution_count": 69,
      "outputs": []
    },
    {
      "cell_type": "code",
      "metadata": {
        "id": "q0H_HH9ytYDS"
      },
      "source": [
        "process2 = functools.partial(process1, part2=True)\n",
        "# check_eq(process2(s1), 16)\n",
        "# puzzle.verify(2, process2)"
      ],
      "execution_count": 70,
      "outputs": []
    },
    {
      "cell_type": "markdown",
      "metadata": {
        "id": "ePpow45UtYGI"
      },
      "source": [
        "<a name=\"day14\"></a>\n",
        "## Day 14: "
      ]
    },
    {
      "cell_type": "markdown",
      "metadata": {
        "id": "iAxsyqsktYGJ"
      },
      "source": [
        "- Part 1: ?\n",
        "\n",
        "- Part 2: ?"
      ]
    },
    {
      "cell_type": "code",
      "metadata": {
        "id": "jhQwXzEbtYGJ"
      },
      "source": [
        "# puzzle = advent.puzzle(day=14)"
      ],
      "execution_count": 71,
      "outputs": []
    },
    {
      "cell_type": "code",
      "metadata": {
        "id": "6nrMfgbQtYGJ"
      },
      "source": [
        "s1 = \"\"\"\n",
        "\"\"\""
      ],
      "execution_count": 72,
      "outputs": []
    },
    {
      "cell_type": "code",
      "metadata": {
        "id": "z55Dd8cgtYGJ"
      },
      "source": [
        "def process1(s, part2=False):\n",
        "  lines = s.strip('\\n').split('\\n')\n",
        "  for line in lines:\n",
        "    pass\n",
        "\n",
        "  return None\n",
        "\n",
        "# check_eq(process1(s1), 17)\n",
        "# puzzle.verify(1, process1)"
      ],
      "execution_count": 73,
      "outputs": []
    },
    {
      "cell_type": "code",
      "metadata": {
        "id": "GhLcws7VtYGJ"
      },
      "source": [
        "process2 = functools.partial(process1, part2=True)\n",
        "# check_eq(process2(s1), 16)\n",
        "# puzzle.verify(2, process2)"
      ],
      "execution_count": 74,
      "outputs": []
    },
    {
      "cell_type": "markdown",
      "metadata": {
        "id": "6S8uqe-MtYI9"
      },
      "source": [
        "<a name=\"day15\"></a>\n",
        "## Day 15: "
      ]
    },
    {
      "cell_type": "markdown",
      "metadata": {
        "id": "HpLYIEVptYI9"
      },
      "source": [
        "- Part 1: ?\n",
        "\n",
        "- Part 2: ?"
      ]
    },
    {
      "cell_type": "code",
      "metadata": {
        "id": "1BW7umTktYI9"
      },
      "source": [
        "# puzzle = advent.puzzle(day=15)"
      ],
      "execution_count": 75,
      "outputs": []
    },
    {
      "cell_type": "code",
      "metadata": {
        "id": "xvS6VTlAtYI9"
      },
      "source": [
        "s1 = \"\"\"\n",
        "\"\"\""
      ],
      "execution_count": 76,
      "outputs": []
    },
    {
      "cell_type": "code",
      "metadata": {
        "id": "BB0zKSZ-tYI9"
      },
      "source": [
        "def process1(s, part2=False):\n",
        "  lines = s.strip('\\n').split('\\n')\n",
        "  for line in lines:\n",
        "    pass\n",
        "\n",
        "  return None\n",
        "\n",
        "# check_eq(process1(s1), 17)\n",
        "# puzzle.verify(1, process1)"
      ],
      "execution_count": 77,
      "outputs": []
    },
    {
      "cell_type": "code",
      "metadata": {
        "id": "HTfg03xltYI9"
      },
      "source": [
        "process2 = functools.partial(process1, part2=True)\n",
        "# check_eq(process2(s1), 16)\n",
        "# puzzle.verify(2, process2)"
      ],
      "execution_count": 78,
      "outputs": []
    },
    {
      "cell_type": "markdown",
      "metadata": {
        "id": "UG_5BwxqtYLo"
      },
      "source": [
        "<a name=\"day16\"></a>\n",
        "## Day 16: "
      ]
    },
    {
      "cell_type": "markdown",
      "metadata": {
        "id": "KCLhWPcBtYLp"
      },
      "source": [
        "- Part 1: ?\n",
        "\n",
        "- Part 2: ?"
      ]
    },
    {
      "cell_type": "code",
      "metadata": {
        "id": "i73ZxyHvtYLp"
      },
      "source": [
        "# puzzle = advent.puzzle(day=16)"
      ],
      "execution_count": 79,
      "outputs": []
    },
    {
      "cell_type": "code",
      "metadata": {
        "id": "Htrtu6ZbtYLp"
      },
      "source": [
        "s1 = \"\"\"\n",
        "\"\"\""
      ],
      "execution_count": 80,
      "outputs": []
    },
    {
      "cell_type": "code",
      "metadata": {
        "id": "6zIhvsRJtYLp"
      },
      "source": [
        "def process1(s, part2=False):\n",
        "  lines = s.strip('\\n').split('\\n')\n",
        "  for line in lines:\n",
        "    pass\n",
        "\n",
        "  return None\n",
        "\n",
        "# check_eq(process1(s1), 17)\n",
        "# puzzle.verify(1, process1)"
      ],
      "execution_count": 81,
      "outputs": []
    },
    {
      "cell_type": "code",
      "metadata": {
        "id": "6QjSkmbitYLp"
      },
      "source": [
        "process2 = functools.partial(process1, part2=True)\n",
        "# check_eq(process2(s1), 16)\n",
        "# puzzle.verify(2, process2)"
      ],
      "execution_count": 82,
      "outputs": []
    },
    {
      "cell_type": "markdown",
      "metadata": {
        "id": "5NgLala5tYOg"
      },
      "source": [
        "<a name=\"day17\"></a>\n",
        "## Day 17: "
      ]
    },
    {
      "cell_type": "markdown",
      "metadata": {
        "id": "u49DEubftYOg"
      },
      "source": [
        "- Part 1: ?\n",
        "\n",
        "- Part 2: ?"
      ]
    },
    {
      "cell_type": "code",
      "metadata": {
        "id": "jmJUaC1mtYOg"
      },
      "source": [
        "# puzzle = advent.puzzle(day=17)"
      ],
      "execution_count": 83,
      "outputs": []
    },
    {
      "cell_type": "code",
      "metadata": {
        "id": "mNDAcckytYOg"
      },
      "source": [
        "s1 = \"\"\"\n",
        "\"\"\""
      ],
      "execution_count": 84,
      "outputs": []
    },
    {
      "cell_type": "code",
      "metadata": {
        "id": "q4Cx4OXKtYOh"
      },
      "source": [
        "def process1(s, part2=False):\n",
        "  lines = s.strip('\\n').split('\\n')\n",
        "  for line in lines:\n",
        "    pass\n",
        "\n",
        "  return None\n",
        "\n",
        "# check_eq(process1(s1), 17)\n",
        "# puzzle.verify(1, process1)"
      ],
      "execution_count": 85,
      "outputs": []
    },
    {
      "cell_type": "code",
      "metadata": {
        "id": "F41o2gx1tYOh"
      },
      "source": [
        "process2 = functools.partial(process1, part2=True)\n",
        "# check_eq(process2(s1), 16)\n",
        "# puzzle.verify(2, process2)"
      ],
      "execution_count": 86,
      "outputs": []
    },
    {
      "cell_type": "markdown",
      "metadata": {
        "id": "jL4sZ44rtYRa"
      },
      "source": [
        "<a name=\"day18\"></a>\n",
        "## Day 18: "
      ]
    },
    {
      "cell_type": "markdown",
      "metadata": {
        "id": "0prJvdAvtYRa"
      },
      "source": [
        "- Part 1: ?\n",
        "\n",
        "- Part 2: ?"
      ]
    },
    {
      "cell_type": "code",
      "metadata": {
        "id": "KEetze19tYRa"
      },
      "source": [
        "# puzzle = advent.puzzle(day=18)"
      ],
      "execution_count": 87,
      "outputs": []
    },
    {
      "cell_type": "code",
      "metadata": {
        "id": "jE2NCi2QtYRa"
      },
      "source": [
        "s1 = \"\"\"\n",
        "\"\"\""
      ],
      "execution_count": 88,
      "outputs": []
    },
    {
      "cell_type": "code",
      "metadata": {
        "id": "4LK6oFn_tYRa"
      },
      "source": [
        "def process1(s, part2=False):\n",
        "  lines = s.strip('\\n').split('\\n')\n",
        "  for line in lines:\n",
        "    pass\n",
        "\n",
        "  return None\n",
        "\n",
        "# check_eq(process1(s1), 17)\n",
        "# puzzle.verify(1, process1)"
      ],
      "execution_count": 89,
      "outputs": []
    },
    {
      "cell_type": "code",
      "metadata": {
        "id": "54SDb710tYRa"
      },
      "source": [
        "process2 = functools.partial(process1, part2=True)\n",
        "# check_eq(process2(s1), 16)\n",
        "# puzzle.verify(2, process2)"
      ],
      "execution_count": 90,
      "outputs": []
    },
    {
      "cell_type": "markdown",
      "metadata": {
        "id": "uTKDTkq9tYUS"
      },
      "source": [
        "<a name=\"day19\"></a>\n",
        "## Day 19: "
      ]
    },
    {
      "cell_type": "markdown",
      "metadata": {
        "id": "eQpbZBvetYUS"
      },
      "source": [
        "- Part 1: ?\n",
        "\n",
        "- Part 2: ?"
      ]
    },
    {
      "cell_type": "code",
      "metadata": {
        "id": "EBn5BDz0tYUS"
      },
      "source": [
        "# puzzle = advent.puzzle(day=19)"
      ],
      "execution_count": 91,
      "outputs": []
    },
    {
      "cell_type": "code",
      "metadata": {
        "id": "GMT4PBoetYUS"
      },
      "source": [
        "s1 = \"\"\"\n",
        "\"\"\""
      ],
      "execution_count": 92,
      "outputs": []
    },
    {
      "cell_type": "code",
      "metadata": {
        "id": "wTT-jYcBtYUS"
      },
      "source": [
        "def process1(s, part2=False):\n",
        "  lines = s.strip('\\n').split('\\n')\n",
        "  for line in lines:\n",
        "    pass\n",
        "\n",
        "  return None\n",
        "\n",
        "# check_eq(process1(s1), 17)\n",
        "# puzzle.verify(1, process1)"
      ],
      "execution_count": 93,
      "outputs": []
    },
    {
      "cell_type": "code",
      "metadata": {
        "id": "m3342lEvtYUS"
      },
      "source": [
        "process2 = functools.partial(process1, part2=True)\n",
        "# check_eq(process2(s1), 16)\n",
        "# puzzle.verify(2, process2)"
      ],
      "execution_count": 94,
      "outputs": []
    },
    {
      "cell_type": "markdown",
      "metadata": {
        "id": "4jrToPEutYXI"
      },
      "source": [
        "<a name=\"day20\"></a>\n",
        "## Day 20: "
      ]
    },
    {
      "cell_type": "markdown",
      "metadata": {
        "id": "fgQ0ijqhtYXI"
      },
      "source": [
        "- Part 1: ?\n",
        "\n",
        "- Part 2: ?"
      ]
    },
    {
      "cell_type": "code",
      "metadata": {
        "id": "Rj13zYNQtYXI"
      },
      "source": [
        "# puzzle = advent.puzzle(day=20)"
      ],
      "execution_count": 95,
      "outputs": []
    },
    {
      "cell_type": "code",
      "metadata": {
        "id": "Le975LSKtYXJ"
      },
      "source": [
        "s1 = \"\"\"\n",
        "\"\"\""
      ],
      "execution_count": 96,
      "outputs": []
    },
    {
      "cell_type": "code",
      "metadata": {
        "id": "TpLThDn-tYXJ"
      },
      "source": [
        "def process1(s, part2=False):\n",
        "  lines = s.strip('\\n').split('\\n')\n",
        "  for line in lines:\n",
        "    pass\n",
        "\n",
        "  return None\n",
        "\n",
        "# check_eq(process1(s1), 17)\n",
        "# puzzle.verify(1, process1)"
      ],
      "execution_count": 97,
      "outputs": []
    },
    {
      "cell_type": "code",
      "metadata": {
        "id": "LLudmn7stYXJ"
      },
      "source": [
        "process2 = functools.partial(process1, part2=True)\n",
        "# check_eq(process2(s1), 16)\n",
        "# puzzle.verify(2, process2)"
      ],
      "execution_count": 98,
      "outputs": []
    },
    {
      "cell_type": "markdown",
      "metadata": {
        "id": "GPV6RGAetYac"
      },
      "source": [
        "<a name=\"day21\"></a>\n",
        "## Day 21: "
      ]
    },
    {
      "cell_type": "markdown",
      "metadata": {
        "id": "CX0O-vkhtYad"
      },
      "source": [
        "- Part 1: ?\n",
        "\n",
        "- Part 2: ?"
      ]
    },
    {
      "cell_type": "code",
      "metadata": {
        "id": "OWjBjJkjtYad"
      },
      "source": [
        "# puzzle = advent.puzzle(day=21)"
      ],
      "execution_count": 99,
      "outputs": []
    },
    {
      "cell_type": "code",
      "metadata": {
        "id": "65_wPZvVtYad"
      },
      "source": [
        "s1 = \"\"\"\n",
        "\"\"\""
      ],
      "execution_count": 100,
      "outputs": []
    },
    {
      "cell_type": "code",
      "metadata": {
        "id": "-6xYVedPtYad"
      },
      "source": [
        "def process1(s, part2=False):\n",
        "  lines = s.strip('\\n').split('\\n')\n",
        "  for line in lines:\n",
        "    pass\n",
        "\n",
        "  return None\n",
        "\n",
        "# check_eq(process1(s1), 17)\n",
        "# puzzle.verify(1, process1)"
      ],
      "execution_count": 101,
      "outputs": []
    },
    {
      "cell_type": "code",
      "metadata": {
        "id": "gdgjk9iltYad"
      },
      "source": [
        "process2 = functools.partial(process1, part2=True)\n",
        "# check_eq(process2(s1), 16)\n",
        "# puzzle.verify(2, process2)"
      ],
      "execution_count": 102,
      "outputs": []
    },
    {
      "cell_type": "markdown",
      "metadata": {
        "id": "0pzNTcAF5KG3"
      },
      "source": [
        "<a name=\"day22\"></a>\n",
        "## Day 22: "
      ]
    },
    {
      "cell_type": "markdown",
      "metadata": {
        "id": "mx8IYte45KG4"
      },
      "source": [
        "- Part 1: ?\n",
        "\n",
        "- Part 2: ?"
      ]
    },
    {
      "cell_type": "code",
      "metadata": {
        "id": "2dYtT6SLufg5"
      },
      "source": [
        "# puzzle = advent.puzzle(day=22)"
      ],
      "execution_count": 103,
      "outputs": []
    },
    {
      "cell_type": "code",
      "metadata": {
        "id": "qEtiRWrgufg5"
      },
      "source": [
        "s1 = \"\"\"\n",
        "\"\"\""
      ],
      "execution_count": 104,
      "outputs": []
    },
    {
      "cell_type": "code",
      "metadata": {
        "id": "dbyxJVYgufg5"
      },
      "source": [
        "def process1(s, part2=False):\n",
        "  lines = s.strip('\\n').split('\\n')\n",
        "  for line in lines:\n",
        "    pass\n",
        "\n",
        "  return None\n",
        "\n",
        "# check_eq(process1(s1), 17)\n",
        "# puzzle.verify(1, process1)"
      ],
      "execution_count": 105,
      "outputs": []
    },
    {
      "cell_type": "code",
      "metadata": {
        "id": "wyt1EHosufg5"
      },
      "source": [
        "process2 = functools.partial(process1, part2=True)\n",
        "# check_eq(process2(s1), 16)\n",
        "# puzzle.verify(2, process2)"
      ],
      "execution_count": 106,
      "outputs": []
    },
    {
      "cell_type": "markdown",
      "metadata": {
        "id": "LU16jAJt5KLv"
      },
      "source": [
        "<a name=\"day23\"></a>\n",
        "## Day 23: "
      ]
    },
    {
      "cell_type": "markdown",
      "metadata": {
        "id": "QKN0J1FH5KLw"
      },
      "source": [
        "- Part 1: ?\n",
        "\n",
        "- Part 2: ?"
      ]
    },
    {
      "cell_type": "code",
      "metadata": {
        "id": "CC8x-lJy5KLw"
      },
      "source": [
        "# puzzle = advent.puzzle(day=23)"
      ],
      "execution_count": 107,
      "outputs": []
    },
    {
      "cell_type": "code",
      "metadata": {
        "id": "Zw7l9iUg5KLw"
      },
      "source": [
        "s1 = \"\"\"\n",
        "\"\"\""
      ],
      "execution_count": 108,
      "outputs": []
    },
    {
      "cell_type": "code",
      "metadata": {
        "id": "2yC_BLOZ5KLw"
      },
      "source": [
        "def process1(s, part2=False):\n",
        "  lines = s.strip('\\n').split('\\n')\n",
        "  for line in lines:\n",
        "    pass\n",
        "\n",
        "  return None\n",
        "\n",
        "# check_eq(process1(s1), 17)\n",
        "# puzzle.verify(1, process1)"
      ],
      "execution_count": 109,
      "outputs": []
    },
    {
      "cell_type": "code",
      "metadata": {
        "id": "UCPi449P5KLw"
      },
      "source": [
        "process2 = functools.partial(process1, part2=True)\n",
        "# check_eq(process2(s1), 16)\n",
        "# puzzle.verify(2, process2)"
      ],
      "execution_count": 110,
      "outputs": []
    },
    {
      "cell_type": "markdown",
      "metadata": {
        "id": "7SlS9DkM5KQX"
      },
      "source": [
        "<a name=\"day24\"></a>\n",
        "## Day 24: "
      ]
    },
    {
      "cell_type": "markdown",
      "metadata": {
        "id": "W2g676U25KQY"
      },
      "source": [
        "- Part 1: ?\n",
        "\n",
        "- Part 2: ?"
      ]
    },
    {
      "cell_type": "code",
      "metadata": {
        "id": "XlIAnrHK5KQY"
      },
      "source": [
        "# puzzle = advent.puzzle(day=24)"
      ],
      "execution_count": 111,
      "outputs": []
    },
    {
      "cell_type": "code",
      "metadata": {
        "id": "C33eVuFV5KQY"
      },
      "source": [
        "s1 = \"\"\"\n",
        "\"\"\""
      ],
      "execution_count": 112,
      "outputs": []
    },
    {
      "cell_type": "code",
      "metadata": {
        "id": "r0_sfwOR5KQY"
      },
      "source": [
        "def process1(s, part2=False):\n",
        "  lines = s.strip('\\n').split('\\n')\n",
        "  for line in lines:\n",
        "    pass\n",
        "\n",
        "  return None\n",
        "\n",
        "# check_eq(process1(s1), 17)\n",
        "# puzzle.verify(1, process1)"
      ],
      "execution_count": 113,
      "outputs": []
    },
    {
      "cell_type": "code",
      "metadata": {
        "id": "g8XSf_lY5KQY"
      },
      "source": [
        "process2 = functools.partial(process1, part2=True)\n",
        "# check_eq(process2(s1), 16)\n",
        "# puzzle.verify(2, process2)"
      ],
      "execution_count": 114,
      "outputs": []
    },
    {
      "cell_type": "markdown",
      "metadata": {
        "id": "3tq1SsLc5KVg"
      },
      "source": [
        "<a name=\"day25\"></a>\n",
        "## Day 25: "
      ]
    },
    {
      "cell_type": "markdown",
      "metadata": {
        "id": "qrN-2etk5KVg"
      },
      "source": [
        "- Part 1: ?\n",
        "\n",
        "- Part 2: ?"
      ]
    },
    {
      "cell_type": "code",
      "metadata": {
        "id": "Z49_CWT05KVg"
      },
      "source": [
        "# puzzle = advent.puzzle(day=25)"
      ],
      "execution_count": 115,
      "outputs": []
    },
    {
      "cell_type": "code",
      "metadata": {
        "id": "qAY8Wey45KVg"
      },
      "source": [
        "s1 = \"\"\"\n",
        "\"\"\""
      ],
      "execution_count": 116,
      "outputs": []
    },
    {
      "cell_type": "code",
      "metadata": {
        "id": "nh-viPPq5KVg"
      },
      "source": [
        "def process1(s, part2=False):\n",
        "  lines = s.strip('\\n').split('\\n')\n",
        "  for line in lines:\n",
        "    pass\n",
        "\n",
        "  return None\n",
        "\n",
        "# check_eq(process1(s1), 17)\n",
        "# puzzle.verify(1, process1)"
      ],
      "execution_count": 117,
      "outputs": []
    },
    {
      "cell_type": "code",
      "metadata": {
        "id": "84L2KE3Q5KVg"
      },
      "source": [
        "# puzzle.verify(2, lambda s: '')  # (No \"Part 2\" on last day.)\n",
        "# (aocd does not allow a blank answer; the answer is not submitted)"
      ],
      "execution_count": 118,
      "outputs": []
    },
    {
      "cell_type": "markdown",
      "metadata": {
        "id": "If8mZUwzx1Id"
      },
      "source": [
        "<a name=\"timings\"></a>\n",
        "## Timings"
      ]
    },
    {
      "cell_type": "code",
      "metadata": {
        "id": "aTzBo92e5pb3",
        "colab": {
          "base_uri": "https://localhost:8080/"
        },
        "outputId": "e66c05bb-b383-48c2-b205-6a5c23b4c58c"
      },
      "source": [
        "advent.show_times()"
      ],
      "execution_count": 119,
      "outputs": [
        {
          "output_type": "stream",
          "name": "stdout",
          "text": [
            "day_1    part_1: 0.001   part_2: 0.001\n",
            "day_2    part_1: 0.001   part_2: 0.001\n",
            "day_3    part_1: 0.005   part_2: 0.020\n",
            "day_4    part_1: 0.011   part_2: 0.011\n",
            "day_5    part_1: 0.106   part_2: 0.193\n",
            "day_6    part_1: 0.000   part_2: 0.000\n",
            "day_7    part_1: 0.000   part_2: 0.001\n",
            "day_8    part_1: 0.001   part_2: 0.007\n",
            "day_9    part_1: 0.003   part_2: 0.008\n",
            "day_10   part_1: 0.004   part_2: 0.002\n",
            "Total time:  0.376 s\n"
          ]
        }
      ]
    },
    {
      "cell_type": "code",
      "metadata": {
        "id": "NZuIFHku84A6"
      },
      "source": [
        "if 0:  # Compute min execution times over several calls.\n",
        "  advent.show_times(recompute=True, repeat=3)"
      ],
      "execution_count": 120,
      "outputs": []
    },
    {
      "cell_type": "code",
      "metadata": {
        "id": "0nio3urkmwZF"
      },
      "source": [
        "if 0:  # Look for unwanted pollution of namespace.\n",
        "  print(textwrap.fill(' '.join(var for var, value in globals().items() if (\n",
        "      not var.startswith('_') and not repr(value).startswith(\n",
        "          ('<module', '<class', 'typing.', 'functools.partial('))))))"
      ],
      "execution_count": 121,
      "outputs": []
    },
    {
      "cell_type": "code",
      "metadata": {
        "id": "4TwDqJdtG0fy"
      },
      "source": [
        "if 0:  # Save puzzle inputs and answers to a ZIP file for downloading.\n",
        "  # Create a new zip file, quietly (-q) and ignoring relative paths (-j).\n",
        "  !zip -q -j - ~/.config/aocd/'{urllib.parse.unquote(PROFILE)}'/*.txt >/content/data.zip"
      ],
      "execution_count": 123,
      "outputs": []
    },
    {
      "cell_type": "markdown",
      "metadata": {
        "id": "GtTzv1y282IP"
      },
      "source": [
        "# End"
      ]
    }
  ]
}